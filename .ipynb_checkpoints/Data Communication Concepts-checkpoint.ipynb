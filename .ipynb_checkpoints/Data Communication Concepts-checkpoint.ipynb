{
 "cells": [
  {
   "cell_type": "markdown",
   "id": "d1f5acf0",
   "metadata": {},
   "source": [
    "# 1 Storytelling with Data\n",
    "\n",
    "Let's start with the importance of data storytelling and the elements you need to tell stories with data. You'll learn best practices to influence how decisions are made before learning how to translate technical results into stories for non-technical stakeholders."
   ]
  },
  {
   "cell_type": "markdown",
   "id": "0036c7bc",
   "metadata": {},
   "source": [
    "## 1.1 Fundamentals of storytelling"
   ]
  },
  {
   "cell_type": "markdown",
   "id": "aab41cef",
   "metadata": {},
   "source": [
    "## 1.2 The story begins\n",
    "\n",
    "You recently started working as a data scientist at a company named *Communicatb*. For your first project, you and your team need to analyze churn customer data for a cell phone company. The goal is to predict their behavior and help develop a program to retain customers.\n",
    "\n",
    "Your team lead knows you are an expert on storytelling. She asks you to explain to the team why crafting a compelling story is important when delivering results. You write down a list of reasons to be prepared.\n",
    "\n",
    "---\n",
    "\n",
    "One of the statements you wrote is **false**. Can you select which one is it?"
   ]
  },
  {
   "cell_type": "markdown",
   "id": "598a33b6",
   "metadata": {},
   "source": [
    "### 1.2.1 Answer the question\n",
    "\n",
    "### Possible Answers\n",
    "\n",
    "- [ ] It will be easier for the audience to remember an anecdote on why customers churn than the correlation coefficients between customer traits.\n",
    "\n",
    "- [ ] Your findings will be better aligned with change-adverse stakeholder expectations. They will be most likely to implement the program to retain customers.\n",
    "\n",
    "- [x] Even if your data do not reveal a distinct customer behavior, storytelling might influence stakeholders to create the retention program.\n",
    "\n",
    "- [ ] The marketing team will have a better understanding of the impact of your model. It is central since they are creating the retention program."
   ]
  },
  {
   "cell_type": "markdown",
   "id": "85fdaacd",
   "metadata": {},
   "source": [
    "## 1.3 Building a story\n",
    "\n",
    "You nailed it! Your explanation of why stories are efficient when conveying insights went very well! Now, your team lead would like you to give a short presentation. You're going explain the different steps involved in telling a story with data to the team. It will be the starting point for delivering the results of the churn project when ready.\n",
    "\n",
    "You know it is an important task. To prepare your talk, you look for your notes on the storytelling course you took, but realize that some parts are erased. So you need to remember the do's and dont's of data storytelling.\n",
    "\n",
    "Which of the following statements about effective data storytelling are true, and which are false?"
   ]
  },
  {
   "cell_type": "markdown",
   "id": "72c06400",
   "metadata": {},
   "source": [
    "### 1.3.1 Instructions\n",
    "\n",
    "Correctly classify the statements as either true or false.\n",
    "\n",
    "| True                                                                                                                       | False                                                                                            |\n",
    "|:--------------------------------------------------------------------------------------------------------------------------:|:------------------------------------------------------------------------------------------------:|\n",
    "| To drive change, center your story around how the company's profits will increase if the retention program is implemented. | For adding value, include all customers traits analyzed to understand why customers churn.       |\n",
    "| Present one supporting customers data point after each other so they naturally reach a conclusion.                         | To drive change, include data from a successful retention program launched in a similar company. |\n",
    "| To create a compelling narrative, connect the most important findings to actions of the retention programs.                | To be clear and concise, build one story and present it to the managers and your technical team. |"
   ]
  },
  {
   "cell_type": "markdown",
   "id": "b6472da6",
   "metadata": {},
   "source": [
    "## 1.4 Translating technical results"
   ]
  },
  {
   "cell_type": "markdown",
   "id": "e73c3441",
   "metadata": {},
   "source": [
    "## 1.5 A non-tech story\n",
    "\n",
    "The exploratory data analysis on the churn project is finished! It's now time for the monthly update meeting. You will have to explain your results to the operation specialist and the program director. You are addressing a non-technical audience, and want to make sure that your presentation is adapted to the audience you're addressing so that your message gets across.\n",
    "\n",
    "You write down some statements you could use to explain your work, but you believe some of them are more suitable for a non-technical story, while others are too technical to include.\n",
    "\n",
    "Can you select which sentences you should use in this case?"
   ]
  },
  {
   "cell_type": "markdown",
   "id": "0cb9545e",
   "metadata": {},
   "source": [
    "### 1.5.1 Instructions\n",
    "\n",
    "Correctly classify the examples as more suitable either for a tech or non-tech stories.\n",
    "\n",
    "| Tech story                                                                                                                                | Non-tech story                                                                                                                                   |\n",
    "|:-----------------------------------------------------------------------------------------------------------------------------------------:|:------------------------------------------------------------------------------------------------------------------------------------------------:|\n",
    "| Churn and no-churn customers show a different probability density distribution of the number of the months a customer has subscribed for. | Imagine that it rains and you have to go to an event. What factors will you consider to go or stay at home? That's how feature importance works. |\n",
    "| The ANOVA showed that payment methods affect churn rate even though SEM is very high.                                                     | The churn customers have subscribed for fewer months than customers that did not churn.                                                          |\n",
    "| After several iterations, the elbow method showed that 4 was the optimal number of clusters to run K-means.                               | The clustering analysis, a model to group customers based on their similarities, showed four types of customers to target with the program.      |\n",
    "| To understand which  features had the most predictive relevance, the feature importance permutation was used.                             | A customer that pays with credit card trends to churn less than a customers that pays with a mailed check.                                       |"
   ]
  },
  {
   "cell_type": "markdown",
   "id": "180ae822",
   "metadata": {},
   "source": [
    "## 1.6 Be aware\n",
    "\n",
    "The meeting was a success! The program director asks you to send your results to the business specialists. You need to write a report and send it by email by the end of the week. You have never met them, so you ask for their background and goals.\n",
    "\n",
    "After you gather data, you realize you will be communicating your results to a different audience. You want them to understand your results.\n",
    "\n",
    "---\n",
    "\n",
    "Can you select which of the following examples are **best practices** to translate your results?"
   ]
  },
  {
   "cell_type": "markdown",
   "id": "3fe48a5c",
   "metadata": {},
   "source": [
    "### 1.6.1 Instructions\n",
    "\n",
    "Correctly classify the examples as either best practice or bad practice.\n",
    "\n",
    "| Best practice                                                                                                                                  | Bad practice                                                                                                                                |\n",
    "|:----------------------------------------------------------------------------------------------------------------------------------------------:|:-------------------------------------------------------------------------------------------------------------------------------------------:|\n",
    "| Explain that the predictions you made will help target specifically some customers. It will save money for the company in marketing campaigns. | Adjust your content to include some explanation on why you choose your variables for analysis, from a business perspective.                 |\n",
    "| At the end of the report, include a page with all the terminology definitions and the acronyms you could not avoid.                            | When sending the report, anticipate any questions the business team will have. Answer them thoroughly so they know you are willing to help. |\n",
    "|                                                                                                                                                | Do not include analogies to explain a concept with simple terms as it could be confusing and disengaging.                                   |"
   ]
  },
  {
   "cell_type": "markdown",
   "id": "44117484",
   "metadata": {},
   "source": [
    "## 1.7 Impacting the decision-making process"
   ]
  },
  {
   "cell_type": "markdown",
   "id": "d37128f7",
   "metadata": {},
   "source": [
    "## 1.8 Is it a true story?\n",
    "\n",
    "You have done an amazing job explaining your exploratory data analysis on the churn project. Now, it's time to run the model to predict customer churn. You know that you will have to craft an effective story to present these results.\n",
    "\n",
    "You want to be prepared. So you read your notes on how to build a compelling narrative. But you realized that one of your notes is not accurate.\n",
    "\n",
    "---\n",
    "\n",
    "Which of the following statement is **false**?"
   ]
  },
  {
   "cell_type": "markdown",
   "id": "5c0d9d61",
   "metadata": {},
   "source": [
    "### 1.8.1 Answer the question\n",
    "\n",
    "### Possible Answers\n",
    "\n",
    "- [ ] A compelling narrative is key to presenting relevant insights to your target audience in a meaningful and impactful way.\n",
    "\n",
    "- [ ] Because you should shape the narrative to your target audience, showing only key points or findings is a good practice.\n",
    "\n",
    "- [x] Unless you have a great data groundwork to support your central insight, your findings will need a well-formed and compelling narrative to drive action and change."
   ]
  },
  {
   "cell_type": "markdown",
   "id": "c3996dd4",
   "metadata": {},
   "source": [
    "## 1.9 Structured to impact\n",
    "\n",
    "Your project on customer churn is done. You analyzed the data and built your model. You followed the steps for storytelling. Now, it's time to structure your story to have an impact at the decision-making level. You want stakeholders to follow your recommendations.\n",
    "\n",
    "You like to write things down. So you take a pen and paper, and write down the different things you want to say in order on sticky notes. The window suddenly opens, throwing all of your notes on the floor.\n",
    "\n",
    "Can you organize the steps for telling a story with data that is solid enough to influence the decision-makers?"
   ]
  },
  {
   "cell_type": "markdown",
   "id": "4ed29546",
   "metadata": {},
   "source": [
    "### 1.9.1 Instructions\n",
    "\n",
    "Order the steps chronologically: the first step should be on top and the last step at the bottom.\n",
    "\n",
    "1. Explain with a line plot that the company usually has a churn rate of 5% but last year that rate suddenly increased to 15%.\n",
    "\n",
    "2. Using boxplots, show that the percentage of churn customers with more than one dependent in their household has increased, affecting the total rate.\n",
    "\n",
    "3. Add further evidence by showing that a higher percentage of customers with more than one dependent in their household with DSL service churn.\n",
    "\n",
    "4. Show a barplot that revel that monthly charges are the most important predictor of customer churn.\n",
    "\n",
    "5. recommend to implement promotional prices to churn-intending customers and show that this will result in 10% more earning with a barplot."
   ]
  },
  {
   "cell_type": "markdown",
   "id": "9f2f9c5e",
   "metadata": {},
   "source": [
    "## 1.10 A story to compare\n",
    "\n",
    "Great job organizing your narrative structure! The next step is to think about how you will present your insights.\n",
    "\n",
    "You start reading and discover there are several ways to present data stories. You can compare your data, show correlation, cluster your data…\n",
    "\n",
    "You are curious to know what type of data story would be a good fit for your data. You write down the central finding, your insights and the supporting evidence.\n",
    "\n",
    "Can you classify your findings into the following categories?"
   ]
  },
  {
   "cell_type": "markdown",
   "id": "7d6dbea0",
   "metadata": {},
   "source": [
    "### 1.10.1 Instructions\n",
    "\n",
    "Correctly classify the following examples as comparison, correlation or clustering.\n",
    "\n",
    "| Comparison                                                                                                                         | Correlation                                                                                                 | Clustering                                                                                                                           |\n",
    "|:----------------------------------------------------------------------------------------------------------------------------------:|:-----------------------------------------------------------------------------------------------------------:|:------------------------------------------------------------------------------------------------------------------------------------:|\n",
    "| 50% of the churning customers have a pay-as-you-go contact. While 90% of non-churning customers are in a 2-year or 3-year contact. | The number of times a customers that churned streamed movies is higher if they pay higher monthly charge.   | There are customers with low monthly charges and low streaming time and customers with high monthly charges and high streaming time. |\n",
    "| About 50% of the churning customers are married, while only 30% of the non-churning customers have dependents.                     | The monthly charges decrease as the number of months a non-churning customers has subscribed for increases. |                                                                                                                                      |"
   ]
  },
  {
   "cell_type": "markdown",
   "id": "97448191",
   "metadata": {},
   "source": [
    "# 2 Preparing to communicate the data\n",
    "\n",
    "Deepen your storytelling knowledge. Learn how to avoid common mistakes when telling stories with data by tailoring your presentations to your audience. Then learn best practices for including visualizations and choosing between oral or written formats to make sure your presentations pack a punch!"
   ]
  },
  {
   "cell_type": "markdown",
   "id": "4b09d2c7",
   "metadata": {},
   "source": [
    "## 2.1 Selecting the right data"
   ]
  },
  {
   "cell_type": "markdown",
   "id": "4d23738b",
   "metadata": {},
   "source": [
    "## 2.2 The truth about salaries\n",
    "\n",
    "Your predictive model for customer churn, which you worked on in Chapter 1, has been deployed. Your project manager asks you to work on a new internal project. The goal is to analyze a database with employee salaries in San Francisco, USA.\n",
    "\n",
    "After doing an exhaustive exploratory data analysis, you have to present your findings to the human resources team. They want to compare San Francisco salary growth to the one at the company; they need to understand how to forecast salaries for the next year. You are about to copy the graphs from your analysis. Your manager reminds you to select the right data for your stakeholders.\n",
    "\n",
    "You start by writing down what you believe can help you choose the proper findings.\n",
    "\n",
    "---\n",
    "\n",
    "One of the statements you wrote is **false**. Can you select which one it is?"
   ]
  },
  {
   "cell_type": "markdown",
   "id": "245dd2ab",
   "metadata": {},
   "source": [
    "### 2.2.1 Answer the question\n",
    "\n",
    "### Possible Answers\n",
    "\n",
    "- [ ] The human resource team would likely be interested in knowing how the average salary has been increasing in the last 10 years in San Francisco.\n",
    "\n",
    "- [ ] The human resource team has no knowledge of data analysis techniques, so code shouldn't be included when listing the top 5 job titles.\n",
    "\n",
    "- [ ] Select categorical data, such as the salaries on the top 10 rated companies in industry the company evolves in, that provides context to support the idea of the increased salaries.\n",
    "\n",
    "- [x] Select all collected numerical data about San Francisco salaries and show them in a big dashboard so it helps understand in detail why salaries have been increasing."
   ]
  },
  {
   "cell_type": "markdown",
   "id": "712b041a",
   "metadata": {},
   "source": [
    "## 2.3 Earning interests\n",
    "\n",
    "Well done! Your presentation with the human resource department was a success. Your team lead asks you to show your data analysis results to different stakeholders. Before you dive into preparing the presentation or the report, you want to make sure that you are aligned with their interests.\n",
    "\n",
    "With that goal in mind, you define several personas. It will help you select the suitable data later. You write down the personas, their knowledge, and their interest on this project.\n",
    "\n",
    "Can you classify your notes into the following audience personas?"
   ]
  },
  {
   "cell_type": "markdown",
   "id": "db9087e3",
   "metadata": {},
   "source": [
    "### 2.3.1 Instructions\n",
    "\n",
    "Correctly classify the following examples as Human Resources Director, technical supervisor, or marketing staff.\n",
    "\n",
    "| Human Resources Director                                                                                                      | Technical supervisor                                                                                  | Marketing staff                                                                                                                   |\n",
    "|:-----------------------------------------------------------------------------------------------------------------------------:|:-----------------------------------------------------------------------------------------------------:|:---------------------------------------------------------------------------------------------------------------------------------:|\n",
    "| Basic technical knowledge on data analysis. Wants to raise the salary of the company employees based on actual data.          | Show the variance, mean, and distribution of numerical variable, such as base pay and total benefits. | Select data demonstrating that better company benefits impact the employee performance to help attract talent on the career page. |\n",
    "| Select data comparing employee satisfaction in best-paying companies compared to others to support employees salary increase. | Expert knowledge on statistical methods. Wants to analyze the salary of different European countries. | General knowledge on data analysis. Wants to understand how salary impacts work-life balance to advertise it on the career page.  |"
   ]
  },
  {
   "cell_type": "markdown",
   "id": "1a40eaa1",
   "metadata": {},
   "source": [
    "## 2.4 Showing relevant statistics"
   ]
  },
  {
   "attachments": {
    "1.png": {
     "image/png": "[encoded data removed]"
    }
   },
   "cell_type": "markdown",
   "id": "38b80b9a",
   "metadata": {},
   "source": [
    "## 2.5 Salary variation\n",
    "\n",
    "You have selected suitable data for your story on San Francisco salaries. Now, you evaluate which metrics you should use.\n",
    "\n",
    "You want to convey the following message to the human resource team: \"*The total pay of employees has increased or decreased according to their job title from 2017 to 2018*.\"\n",
    "\n",
    "You prepared the two visualizations below, but you are unsure which one is best.\n",
    "![1.png](attachment:1.png)\n",
    "One of the following options is **True**. Can you select which one is it?"
   ]
  },
  {
   "cell_type": "markdown",
   "id": "9ab50636",
   "metadata": {},
   "source": [
    "### 2.5.1 Answer the question\n",
    "\n",
    "### Possible Answers\n",
    "\n",
    "- [ ] Both graphs showed clearly how the salary changed for the three different jobs. Both are meaningful ways of expressing the same insight and convey clearly the message.\n",
    "\n",
    "- [ ] The graph on the left, showing total values, is the most suitable one. The changes in salary are observed. No adjustment is needed as you'd rather show raw than transform data.\n",
    "\n",
    "- [x] The graph on the right is the best way to convey the message. With percentage change, the magnitude of the salary change depending on the job is more evident."
   ]
  },
  {
   "cell_type": "markdown",
   "id": "0788a6d5",
   "metadata": {},
   "source": [
    "## 2.6 On a payroll\n",
    "\n",
    "Good job on selecting the most impactful visualization! Your insight made an impact. The human resource team lead asked you to show more findings. You go back to your exploratory data analysis and select some data.\n",
    "\n",
    "But you want to explore different variants of the same data to discover the best one for explaining your distinct insights to the human resource team.\n",
    "\n",
    "Can you decide what data variant would be best suited depending on the finding you want to show?"
   ]
  },
  {
   "cell_type": "markdown",
   "id": "31db707e",
   "metadata": {},
   "source": [
    "### 2.6.1 Instructions\n",
    "\n",
    "Correctly classify the following examples as total values, change or ratio.\n",
    "\n",
    "| Total                                                                                                                     | Change                                                                                                                                | Ratio                                                                              |\n",
    "|:-------------------------------------------------------------------------------------------------------------------------:|:-------------------------------------------------------------------------------------------------------------------------------------:|:----------------------------------------------------------------------------------:|\n",
    "| You want to highlight how much total overtime a company  paid for employees working as electronic maintenance technician. | An important finding is the fact that engineer experimented a 50% increase in their salary in 2018, while business analysts only 30%. | The average total pay per worker did not significantly increase from 2014 to 2015. |\n",
    "| It would be interesting to show the total monthly benefits employee will have the next six months.                        | The number of people working in the private sector increased by 100k from 2017 to 2018.                                               |                                                                                    |"
   ]
  },
  {
   "cell_type": "markdown",
   "id": "b0df8753",
   "metadata": {},
   "source": [
    "## 2.7 It's not significant\n",
    "\n",
    "You have a big deadline ahead. You need to submit a report on the data analysis for the project on San Francisco salaries to your technical lead. He will read it and report your results to the senior management team.\n",
    "\n",
    "You have a story, and you select data to support it. You want to show comparisons of average pay for people with different job titles.\n",
    "\n",
    "You are hesitant to show p-values. You know that there are a lot of misconceptions around it. You decide to use it anyway. However, you plan to clarify any confusion about p-values, so your audience understands its meaning and trusts your results.\n",
    "\n",
    "Can you classify these statements as **good use** or **misuse** of the p-value?"
   ]
  },
  {
   "cell_type": "markdown",
   "id": "ed319b40",
   "metadata": {},
   "source": [
    "### 2.7.1 Instructions\n",
    "\n",
    "Correctly classify the following examples as either a good use or a misuse.\n",
    "\n",
    "| Good use                                                                                                                                           | Misuse                                                                                                                                               |\n",
    "|:--------------------------------------------------------------------------------------------------------------------------------------------------:|:----------------------------------------------------------------------------------------------------------------------------------------------------:|\n",
    "| The base pay salary is higher (p-value: 0.03) for a physician than for a special nurse. You will report it but interpret this result with caution. | The mean base pay is higher for an accountant than a lawyer. P-value is the strongest evidence. There is no other interesting alternative to check.  |\n",
    "| The mean overtime pay show higher values (p-value: 0.04) for a department head than for medical examiner. You don't consider this strong evidence. | From evaluating the p-value, you consider there is enough proof that a nurse and a doctor have the same base pay.                                    |\n",
    "|                                                                                                                                                    | The mean total pay is lower (p-value: 0.002) for firefighters than for department chiefs. It's a bigger difference than for captain (p-value: 0.01). |"
   ]
  },
  {
   "cell_type": "markdown",
   "id": "469bb3bf",
   "metadata": {},
   "source": [
    "## 2.8 Visualizations for different audiences"
   ]
  },
  {
   "cell_type": "markdown",
   "id": "9dac6d26",
   "metadata": {},
   "source": [
    "## 2.9 Salary development\n",
    "\n",
    "You are presenting your data analysis on San Francisco salaries to the business development department.\n",
    "\n",
    "You have your story, and you select data and metrics to support it. But choosing the visualizations is still an ongoing task. You decide to speed it up by getting hands-on. You want to follow the best practices.\n",
    "\n",
    "The message you want to convey is: \"San Francisco salaries have been constantly going up in the last 4 years. The percentage variation is 10% annually. The number of people working in the private sector, such as software or biotechnology, have increased by 100k.\"\n",
    "\n",
    "Can you classify if these practices would be **good** or **bad** when presenting to the *business* department?"
   ]
  },
  {
   "cell_type": "markdown",
   "id": "9120727e",
   "metadata": {},
   "source": [
    "### 2.9.1 Instructions\n",
    "\n",
    "Correctly classify the following statements as being either true or false for choosing an effective visualization.\n",
    "\n",
    "| Good practice                                                                                                             | Bad practice                                                                                                                        |\n",
    "|:-------------------------------------------------------------------------------------------------------------------------:|:-----------------------------------------------------------------------------------------------------------------------------------:|\n",
    "| Aggregate the average salary in the public sector into one bar.                                                           | Include a line plot that shows the average salary in the public health sector from 2017 to 2021 to compare with the private sector. |\n",
    "| Instead of labeling the visualization with complex terms, use a terminology that is accessible to a business stakeholder. | Include a detailed feature importance graph, with coefficient, to show which factor has influenced the most.                        |\n",
    "| Include a barplot that shows the average salary in the private software and biotechnology sector from 2017 to 2021.       |                                                                                                                                     |"
   ]
  },
  {
   "cell_type": "markdown",
   "id": "637a1a13",
   "metadata": {},
   "source": [
    "## 2.10 Salary on demand\n",
    "\n",
    "You have selected visualizations for the business development department.\n",
    "\n",
    "It's time to include them in your report and present them. You are aware of the steps you should follow to include and present visualizations effectively, and you want to do your best and impress your business coworkers. So you ask a colleague to help you organize your thoughts.\n",
    "\n",
    "Can you **order** the steps for including and **presenting visual data** effectively?"
   ]
  },
  {
   "cell_type": "markdown",
   "id": "acb57f78",
   "metadata": {},
   "source": [
    "### 2.10.1 Instructions\n",
    "\n",
    "Order the steps chronologically: the first step should be on top and the last step at the bottom.\n",
    "\n",
    "1. Announce the visualization \"Yearly total pay for private sector from 2017-2020\"\n",
    "\n",
    "2. Explain that the data was obtained from a public survey made to 100k employees\n",
    "\n",
    "3. Affirm that the average salary in the private sector has increased from 2017 to 2021\n",
    "\n",
    "4. Show that particularly in software and biotechnology, the average total pay has increased by 50%\n",
    "\n",
    "5. Tell the audience that this is important because the company could attract and retain employees with a competitive salary."
   ]
  },
  {
   "cell_type": "markdown",
   "id": "201ac565",
   "metadata": {},
   "source": [
    "## 2.11 Choosing the appropriate format"
   ]
  },
  {
   "cell_type": "markdown",
   "id": "b5b550cb",
   "metadata": {},
   "source": [
    "## 2.12 A communication problem\n",
    "\n",
    "Your coworker has been working on a project on price predictions. He asks you to help him choose the most suitable format to deliver his results to the executive board as well as to his team.\n",
    "\n",
    "You give him a set of advice and rules of thumb, so he can make an informed decision. When you arrive home, you realize that you made one mistake.\n",
    "\n",
    "---\n",
    "\n",
    "Which of the following advice should you not have provided?"
   ]
  },
  {
   "cell_type": "markdown",
   "id": "c28947ee",
   "metadata": {},
   "source": [
    "### 2.12.1 Answer the question\n",
    "\n",
    "### Possible Answers\n",
    "\n",
    "- [ ] The amount of time the CEO can dedicate to getting up to speed with your analysis is an important factor in your choice of delivery format.\n",
    "\n",
    "- [x] If a software engineer in your team wants to continue your project with new data, the central piece of information to include in your meeting is the project conclusions.\n",
    "\n",
    "- [ ] If your project manager, located in a different time zone, needs your results to communicate them to customers, a written report would be ideal."
   ]
  },
  {
   "cell_type": "markdown",
   "id": "404ed772",
   "metadata": {},
   "source": [
    "## 2.13 Should we meet?\n",
    "\n",
    "It's Friday. Your project manager comes by your desk. She asks you about the status of your project on salaries for San Francisco employees. She tells you that you need to close the project. Fortunately, you have finished building the model.\n",
    "\n",
    "But to close it, you need to communicate the results to the different stakeholders. After she talks with the people involved, you start to receive emails asking about the results. You need to decide if you are going to use an oral presentation or a written report.\n",
    "\n",
    "Can you decide what type of format would be best suited depending on the situation and requirements?"
   ]
  },
  {
   "cell_type": "markdown",
   "id": "cf2ac77f",
   "metadata": {},
   "source": [
    "### 2.13.1 Instructions\n",
    "\n",
    "Correctly classify the following inquires as suitable for an oral or written format.\n",
    "\n",
    "| Oral format                                                                                                            | Written format                                                                                                                                      |\n",
    "|:----------------------------------------------------------------------------------------------------------------------:|:---------------------------------------------------------------------------------------------------------------------------------------------------:|\n",
    "| Your program manager wants to close the project and understand what went well and what can be improved.                | A colleague wants to understand and digest your methodology so that she can replicate them on a new dataset regarding churn for New York employees. |\n",
    "| Your manager wants you to present the results to the finance team, so they can ask follow-up questions about salaries. | The software engineering team needs to understand your model to integrate it with an internal application on the backend.                           |\n",
    "| An investor wants the monthly update on your employee salaries project to understand your conclusions.                 | A founder wants to have the San Francisco salaries analysis to support his position at the board meeting.                                           |"
   ]
  },
  {
   "cell_type": "markdown",
   "id": "b51ccb68",
   "metadata": {},
   "source": [
    "## 2.14 When in doubt\n",
    "\n",
    "You manage to deliver the results to almost all the stakeholders. You are about to start writing the report for the founder when you get an email. Your founder is coming by the office the following Friday. Your manager wants to know if presenting the project during a meeting would be better.\n",
    "\n",
    "You have second thoughts about changing the format. So you decide to write down beneficial and unfavorable aspects of an oral presentation.\n",
    "\n",
    "Can you classify your thoughts correctly?"
   ]
  },
  {
   "cell_type": "markdown",
   "id": "d8a31f47",
   "metadata": {},
   "source": [
    "### 2.14.1 Instructions\n",
    "\n",
    "Correctly classify examples where an oral presentation is either beneficial or a unfavorable.\n",
    "\n",
    "| Beneficial                                                                        | Unfavorable                                                                                             |\n",
    "|:---------------------------------------------------------------------------------:|:-------------------------------------------------------------------------------------------------------:|\n",
    "| You are very eager to know the opinion of the founder about your recommendations. | You want to communicate a lengthy message, so you want all the results to receive the proper attention. |\n",
    "| Your conclusions highlight that a decision is needed immediately.                 | The founder will share your project with a large audience, so she would like to study your conclusions. |\n",
    "| Your body language will contribute to the impact your result will have.           |                                                                                                         |"
   ]
  },
  {
   "cell_type": "markdown",
   "id": "7daf5063",
   "metadata": {},
   "source": [
    "# 3 Structuring written reports\n",
    "\n",
    "Now that you understand how to prepare for communicating findings, it’s time to learn how to structure your reports. You'll also learn the importance of reproducibility (work smarter, not harder) and how to get to the point when describing your findings. You’ll then get to apply all you’ve learned to a real-world use case as you create a compelling report on credit risk."
   ]
  },
  {
   "cell_type": "markdown",
   "id": "a935b2c0",
   "metadata": {},
   "source": [
    "## 3.1 Types of reports"
   ]
  },
  {
   "cell_type": "markdown",
   "id": "9e2ca2f7",
   "metadata": {},
   "source": [
    "## 3.2 Something to report\n",
    "\n",
    "You need to present a report regarding your findings about customer churn and the predictive model you used, which you worked on in Chapter 1. Your project manager asks you to write it according to industry standards. You're aware that this requires you to follow a strict structure. Your manager also specifies that the report will be shared with technical stakeholders.\n",
    "\n",
    "First, you write the sections separately: it's easier to handle that way. Then comes the time to bring all the sections together.\n",
    "\n",
    "Can you organize the sections you wrote for the report in the correct order?"
   ]
  },
  {
   "cell_type": "markdown",
   "id": "c7692882",
   "metadata": {},
   "source": [
    "### 3.2.1 Instructions\n",
    "\n",
    "Order the report sections so that the first section should be on top and the last at the bottom.\n",
    "\n",
    "1. The purpose of this report is to describe the results obtained from a model that predicts and identifies customers that will likely churn.\n",
    "\n",
    "2. The data, gathered from the website, contains categorical data, such as gender, and internet service. It was converted to either 0 or 1 columns.\n",
    "\n",
    "3. The datasets was split into train (70%) and test (30%) set. A K-Nearest Neighbors model was trained and model performance was evaluated.\n",
    "\n",
    "4. As you can see in the graph, this reports analyzes the importance of different features such as monthly charges, contract type and phone service.\n",
    "\n",
    "5. The model has an accuracy of 92% in predicting customers churn. The internet service type and discounts correlates with customer churning.\n",
    "\n",
    "6. In summery, discounts on premium phone services should be implemented in order to retain customers."
   ]
  },
  {
   "cell_type": "markdown",
   "id": "0934cd00",
   "metadata": {},
   "source": [
    "## 3.3 In summary\n",
    "\n",
    "Well done ordering the sections in your technical stakeholder report. Your project lead asks you to write a report to send to the directory board. They are non-technical stakeholders. You will revisit your previous report and tailor it as a summary report. But first, you want to refresh how a final report and a summary report differ.\n",
    "\n",
    "Can you correctly classify the statements as characteristics of a final or summary report?"
   ]
  },
  {
   "cell_type": "markdown",
   "id": "e8a05408",
   "metadata": {},
   "source": [
    "### 3.3.1 Instructions\n",
    "\n",
    "Correctly classify the examples as a feature of either a final or summary report.\n",
    "\n",
    "| Final report                                                                                    | Summary report                                                                                                |\n",
    "|:-----------------------------------------------------------------------------------------------:|:-------------------------------------------------------------------------------------------------------------:|\n",
    "| It should be written thinking about an audience that requires details.                          | Your report is about four pages long.                                                                         |\n",
    "| The report includes detailed findings and results showing how you performed your data analysis. | You might include a link to the main document in case the stakeholder wants to inspect more detailed content. |\n",
    "| Your report is about twelve pages long.                                                         | In the results section, you only include three graphs that simply explain the key findings                    |\n",
    "|                                                                                                 | It should be written thinking about an audience that doesn't require details.                                 |"
   ]
  },
  {
   "cell_type": "markdown",
   "id": "45c36988",
   "metadata": {},
   "source": [
    "## 3.4 Reproducibility and references"
   ]
  },
  {
   "cell_type": "markdown",
   "id": "75f7a6a8",
   "metadata": {},
   "source": [
    "## 3.5 Replicate me\n",
    "\n",
    "Your manager asks you to write a report on your customer churn project for your peers at the New York office. She mentions that the team wants to replicate your work. After wrapping up the report, you add a link to your code repository. She looks confused and asks you why you did that.\n",
    "\n",
    "You explain: **If the New York team wants to replicate my work, then they should have access to the same ___ and the same ___ I used. However, if they want to achieve ___ , they can use their own set of tools**.\n",
    "\n",
    "Fill in the blank spaces by choosing the correct word combination from the options."
   ]
  },
  {
   "cell_type": "markdown",
   "id": "2f2c7435",
   "metadata": {},
   "source": [
    "### 3.5.1 Answer the question\n",
    "\n",
    "### Possible Answers\n",
    "\n",
    "- [ ] data, code, replicability\n",
    "\n",
    "- [ ] team, code, reproducibility\n",
    "\n",
    "- [x] data, code, reproducibility\n",
    "\n",
    "- [ ] team, data, replicability"
   ]
  },
  {
   "cell_type": "markdown",
   "id": "5061299a",
   "metadata": {},
   "source": [
    "## 3.6 Same results\n",
    "\n",
    "Your manager is very interested in learning more about reproducibility. She asks you to give a short presentation at the weekly meeting. You're going to introduce the best practices to create reproducible data science results.\n",
    "\n",
    "You prepare a slide presenting bad practices, and another one highlighting best practices.\n",
    "\n",
    "Which of the following statements are considered best practices in reproducibility, and which should be avoided?"
   ]
  },
  {
   "cell_type": "markdown",
   "id": "68950201",
   "metadata": {},
   "source": [
    "### 3.6.1 Instructions\n",
    "\n",
    "Correctly classify the statements as best or bad practices.\n",
    "\n",
    "| Bad practice                                                                                                                           | Best practice                                                                                                     |\n",
    "|:--------------------------------------------------------------------------------------------------------------------------------------:|:-----------------------------------------------------------------------------------------------------------------:|\n",
    "| For your machine learning model, do not set the random seed argument as it will always return the same result, eliminating randomness. | Use a software to handle references so you can correctly cite the sources you consult during the project work.    |\n",
    "| Before you start analyzing the data, open the dataset in a text editor to delete all unwanted columns.                                 | Use a Jupyter notebook, so you can explain your thought and decision-making process at each step of the analysis. |\n",
    "| Erase intermediate files created from your machine to avoid confusion.                                                                 | Create an extra file where you write down the Python packages and versions you use for the analysis.              |"
   ]
  },
  {
   "cell_type": "markdown",
   "id": "092982e5",
   "metadata": {},
   "source": [
    "## 3.7 Write precise and clear reports"
   ]
  },
  {
   "cell_type": "markdown",
   "id": "881e4dd0",
   "metadata": {},
   "source": []
  },
  {
   "cell_type": "markdown",
   "id": "29ac56dd",
   "metadata": {},
   "source": []
  },
  {
   "cell_type": "markdown",
   "id": "2d6a0168",
   "metadata": {},
   "source": []
  },
  {
   "cell_type": "markdown",
   "id": "967210d8",
   "metadata": {},
   "source": []
  },
  {
   "cell_type": "markdown",
   "id": "e8c64eec",
   "metadata": {},
   "source": []
  },
  {
   "cell_type": "markdown",
   "id": "ee06a6f6",
   "metadata": {},
   "source": []
  },
  {
   "cell_type": "markdown",
   "id": "e86fec0b",
   "metadata": {},
   "source": []
  },
  {
   "cell_type": "markdown",
   "id": "aef08d6d",
   "metadata": {},
   "source": []
  },
  {
   "cell_type": "markdown",
   "id": "d1292542",
   "metadata": {},
   "source": []
  },
  {
   "cell_type": "markdown",
   "id": "00980c5a",
   "metadata": {},
   "source": []
  },
  {
   "cell_type": "markdown",
   "id": "cdea2891",
   "metadata": {},
   "source": []
  },
  {
   "cell_type": "markdown",
   "id": "d2d31fb6",
   "metadata": {},
   "source": []
  },
  {
   "cell_type": "markdown",
   "id": "bf9de4d1",
   "metadata": {},
   "source": []
  },
  {
   "cell_type": "markdown",
   "id": "87282834",
   "metadata": {},
   "source": []
  },
  {
   "cell_type": "markdown",
   "id": "5ae515e1",
   "metadata": {},
   "source": []
  },
  {
   "cell_type": "markdown",
   "id": "64fe1a49",
   "metadata": {},
   "source": []
  },
  {
   "cell_type": "markdown",
   "id": "fc83170b",
   "metadata": {},
   "source": []
  },
  {
   "cell_type": "markdown",
   "id": "524d2658",
   "metadata": {},
   "source": []
  },
  {
   "cell_type": "markdown",
   "id": "651d15e8",
   "metadata": {},
   "source": []
  },
  {
   "cell_type": "markdown",
   "id": "d71eec7c",
   "metadata": {},
   "source": []
  },
  {
   "cell_type": "markdown",
   "id": "2b91f311",
   "metadata": {},
   "source": []
  },
  {
   "cell_type": "markdown",
   "id": "910ee763",
   "metadata": {},
   "source": []
  },
  {
   "cell_type": "markdown",
   "id": "b214a9d8",
   "metadata": {},
   "source": []
  },
  {
   "cell_type": "markdown",
   "id": "396cac67",
   "metadata": {},
   "source": []
  },
  {
   "cell_type": "markdown",
   "id": "132ba97a",
   "metadata": {},
   "source": []
  },
  {
   "cell_type": "markdown",
   "id": "6091809b",
   "metadata": {},
   "source": []
  },
  {
   "cell_type": "markdown",
   "id": "50dc78ac",
   "metadata": {},
   "source": []
  },
  {
   "cell_type": "markdown",
   "id": "9c91dc31",
   "metadata": {},
   "source": []
  },
  {
   "cell_type": "markdown",
   "id": "a39a2b03",
   "metadata": {},
   "source": []
  },
  {
   "cell_type": "markdown",
   "id": "49c58fdf",
   "metadata": {},
   "source": []
  },
  {
   "cell_type": "markdown",
   "id": "39f34f8b",
   "metadata": {},
   "source": []
  },
  {
   "cell_type": "markdown",
   "id": "6b2b6bb6",
   "metadata": {},
   "source": []
  },
  {
   "cell_type": "markdown",
   "id": "181e26b5",
   "metadata": {},
   "source": []
  },
  {
   "cell_type": "markdown",
   "id": "798c1396",
   "metadata": {},
   "source": []
  },
  {
   "cell_type": "markdown",
   "id": "514f2343",
   "metadata": {},
   "source": []
  },
  {
   "cell_type": "markdown",
   "id": "6e1295a6",
   "metadata": {},
   "source": []
  },
  {
   "cell_type": "markdown",
   "id": "e93ab0a8",
   "metadata": {},
   "source": []
  },
  {
   "cell_type": "markdown",
   "id": "cd4ed4fe",
   "metadata": {},
   "source": []
  },
  {
   "cell_type": "markdown",
   "id": "0fb0727f",
   "metadata": {},
   "source": []
  },
  {
   "cell_type": "markdown",
   "id": "7bdab176",
   "metadata": {},
   "source": []
  },
  {
   "cell_type": "markdown",
   "id": "1a811252",
   "metadata": {},
   "source": []
  },
  {
   "cell_type": "markdown",
   "id": "c0f3a09c",
   "metadata": {},
   "source": []
  },
  {
   "cell_type": "markdown",
   "id": "6789d908",
   "metadata": {},
   "source": []
  },
  {
   "cell_type": "markdown",
   "id": "7368ad86",
   "metadata": {},
   "source": []
  },
  {
   "cell_type": "markdown",
   "id": "7dde5cd0",
   "metadata": {},
   "source": []
  },
  {
   "cell_type": "markdown",
   "id": "491f3f50",
   "metadata": {},
   "source": []
  },
  {
   "cell_type": "markdown",
   "id": "30e86c10",
   "metadata": {},
   "source": []
  },
  {
   "cell_type": "markdown",
   "id": "f852a99d",
   "metadata": {},
   "source": []
  },
  {
   "cell_type": "markdown",
   "id": "266137a8",
   "metadata": {},
   "source": []
  },
  {
   "cell_type": "markdown",
   "id": "21a19828",
   "metadata": {},
   "source": []
  },
  {
   "cell_type": "markdown",
   "id": "3d669836",
   "metadata": {},
   "source": []
  },
  {
   "cell_type": "markdown",
   "id": "903ce9b6",
   "metadata": {},
   "source": []
  },
  {
   "cell_type": "markdown",
   "id": "97817fd3",
   "metadata": {},
   "source": []
  },
  {
   "cell_type": "markdown",
   "id": "d0f73acb",
   "metadata": {},
   "source": []
  },
  {
   "cell_type": "markdown",
   "id": "0e9d9d39",
   "metadata": {},
   "source": []
  },
  {
   "cell_type": "markdown",
   "id": "860338a3",
   "metadata": {},
   "source": []
  },
  {
   "cell_type": "markdown",
   "id": "36a89a10",
   "metadata": {},
   "source": []
  },
  {
   "cell_type": "markdown",
   "id": "2c57d5a1",
   "metadata": {},
   "source": []
  },
  {
   "cell_type": "markdown",
   "id": "5f4db127",
   "metadata": {},
   "source": []
  },
  {
   "cell_type": "markdown",
   "id": "6f8d19e9",
   "metadata": {},
   "source": []
  },
  {
   "cell_type": "markdown",
   "id": "c22d95d9",
   "metadata": {},
   "source": []
  },
  {
   "cell_type": "markdown",
   "id": "9bc7af7d",
   "metadata": {},
   "source": []
  },
  {
   "cell_type": "markdown",
   "id": "e2359995",
   "metadata": {},
   "source": []
  },
  {
   "cell_type": "markdown",
   "id": "12cb39f5",
   "metadata": {},
   "source": []
  },
  {
   "cell_type": "markdown",
   "id": "1f17d9a1",
   "metadata": {},
   "source": []
  },
  {
   "cell_type": "markdown",
   "id": "f508fe8e",
   "metadata": {},
   "source": []
  },
  {
   "cell_type": "markdown",
   "id": "793fd7cb",
   "metadata": {},
   "source": []
  },
  {
   "cell_type": "markdown",
   "id": "da311baf",
   "metadata": {},
   "source": []
  },
  {
   "cell_type": "markdown",
   "id": "6e133672",
   "metadata": {},
   "source": []
  },
  {
   "cell_type": "markdown",
   "id": "cd1664a5",
   "metadata": {},
   "source": []
  },
  {
   "cell_type": "markdown",
   "id": "3a73db38",
   "metadata": {},
   "source": []
  },
  {
   "cell_type": "markdown",
   "id": "0d2d61f2",
   "metadata": {},
   "source": []
  },
  {
   "cell_type": "markdown",
   "id": "895f6c9b",
   "metadata": {},
   "source": []
  },
  {
   "cell_type": "markdown",
   "id": "47e6a508",
   "metadata": {},
   "source": []
  },
  {
   "cell_type": "markdown",
   "id": "20415656",
   "metadata": {},
   "source": []
  },
  {
   "cell_type": "markdown",
   "id": "96525cba",
   "metadata": {},
   "source": []
  },
  {
   "cell_type": "markdown",
   "id": "263f30fa",
   "metadata": {},
   "source": []
  },
  {
   "cell_type": "markdown",
   "id": "f9464771",
   "metadata": {},
   "source": []
  },
  {
   "cell_type": "markdown",
   "id": "a3812f6c",
   "metadata": {},
   "source": []
  },
  {
   "cell_type": "markdown",
   "id": "22c3bc65",
   "metadata": {},
   "source": []
  },
  {
   "cell_type": "markdown",
   "id": "826357a8",
   "metadata": {},
   "source": []
  },
  {
   "cell_type": "markdown",
   "id": "098cd3d3",
   "metadata": {},
   "source": []
  },
  {
   "cell_type": "markdown",
   "id": "53dcd46f",
   "metadata": {},
   "source": []
  },
  {
   "cell_type": "markdown",
   "id": "9ef5f646",
   "metadata": {},
   "source": []
  },
  {
   "cell_type": "markdown",
   "id": "99ce4d96",
   "metadata": {},
   "source": []
  },
  {
   "cell_type": "markdown",
   "id": "e351b1f8",
   "metadata": {},
   "source": []
  },
  {
   "cell_type": "markdown",
   "id": "b1d6bf5a",
   "metadata": {},
   "source": []
  },
  {
   "cell_type": "markdown",
   "id": "4520f3bd",
   "metadata": {},
   "source": []
  },
  {
   "cell_type": "markdown",
   "id": "221f4c1a",
   "metadata": {},
   "source": []
  },
  {
   "cell_type": "markdown",
   "id": "080a0b15",
   "metadata": {},
   "source": []
  },
  {
   "cell_type": "markdown",
   "id": "ce593b77",
   "metadata": {},
   "source": []
  },
  {
   "cell_type": "markdown",
   "id": "5ab6e210",
   "metadata": {},
   "source": []
  },
  {
   "cell_type": "markdown",
   "id": "f7fbcef0",
   "metadata": {},
   "source": []
  },
  {
   "cell_type": "markdown",
   "id": "2309aa5c",
   "metadata": {},
   "source": []
  },
  {
   "cell_type": "markdown",
   "id": "c1d2e2c6",
   "metadata": {},
   "source": []
  },
  {
   "cell_type": "markdown",
   "id": "65b36c1e",
   "metadata": {},
   "source": []
  },
  {
   "cell_type": "markdown",
   "id": "55ba0c7d",
   "metadata": {},
   "source": []
  },
  {
   "cell_type": "markdown",
   "id": "c26bbcbc",
   "metadata": {},
   "source": []
  },
  {
   "cell_type": "markdown",
   "id": "5d0ee7c8",
   "metadata": {},
   "source": []
  },
  {
   "cell_type": "markdown",
   "id": "c32db36d",
   "metadata": {},
   "source": []
  },
  {
   "cell_type": "markdown",
   "id": "4cd09b7f",
   "metadata": {},
   "source": []
  },
  {
   "cell_type": "markdown",
   "id": "6330fe74",
   "metadata": {},
   "source": []
  },
  {
   "cell_type": "markdown",
   "id": "87676d26",
   "metadata": {},
   "source": []
  },
  {
   "cell_type": "markdown",
   "id": "4dc1caac",
   "metadata": {},
   "source": []
  },
  {
   "cell_type": "markdown",
   "id": "a8220921",
   "metadata": {},
   "source": []
  },
  {
   "cell_type": "markdown",
   "id": "dc559205",
   "metadata": {},
   "source": []
  },
  {
   "cell_type": "markdown",
   "id": "562bb235",
   "metadata": {},
   "source": []
  },
  {
   "cell_type": "markdown",
   "id": "94669edc",
   "metadata": {},
   "source": []
  },
  {
   "cell_type": "markdown",
   "id": "c5e34c06",
   "metadata": {},
   "source": []
  },
  {
   "cell_type": "markdown",
   "id": "7f1090bd",
   "metadata": {},
   "source": []
  },
  {
   "cell_type": "markdown",
   "id": "f3d32658",
   "metadata": {},
   "source": []
  },
  {
   "cell_type": "markdown",
   "id": "436a3bfa",
   "metadata": {},
   "source": []
  },
  {
   "cell_type": "markdown",
   "id": "bdf92421",
   "metadata": {},
   "source": []
  },
  {
   "cell_type": "markdown",
   "id": "c359569b",
   "metadata": {},
   "source": []
  },
  {
   "cell_type": "markdown",
   "id": "249db0a4",
   "metadata": {},
   "source": []
  },
  {
   "cell_type": "markdown",
   "id": "d471e3d9",
   "metadata": {},
   "source": []
  },
  {
   "cell_type": "markdown",
   "id": "d16bb68d",
   "metadata": {},
   "source": []
  },
  {
   "cell_type": "markdown",
   "id": "88568815",
   "metadata": {},
   "source": []
  },
  {
   "cell_type": "markdown",
   "id": "22dde3dd",
   "metadata": {},
   "source": []
  },
  {
   "cell_type": "markdown",
   "id": "7aa382ba",
   "metadata": {},
   "source": []
  },
  {
   "cell_type": "markdown",
   "id": "088fdae0",
   "metadata": {},
   "source": []
  },
  {
   "cell_type": "markdown",
   "id": "9541bbc4",
   "metadata": {},
   "source": []
  },
  {
   "cell_type": "markdown",
   "id": "411a19f4",
   "metadata": {},
   "source": []
  },
  {
   "cell_type": "markdown",
   "id": "b3744899",
   "metadata": {},
   "source": []
  },
  {
   "cell_type": "markdown",
   "id": "91b6ec7a",
   "metadata": {},
   "source": []
  },
  {
   "cell_type": "markdown",
   "id": "89f414de",
   "metadata": {},
   "source": []
  },
  {
   "cell_type": "markdown",
   "id": "e3d607ec",
   "metadata": {},
   "source": []
  },
  {
   "cell_type": "markdown",
   "id": "0a625623",
   "metadata": {},
   "source": []
  },
  {
   "cell_type": "markdown",
   "id": "b6c92cab",
   "metadata": {},
   "source": []
  },
  {
   "cell_type": "markdown",
   "id": "cd9a9ea5",
   "metadata": {},
   "source": []
  },
  {
   "cell_type": "markdown",
   "id": "03ac1c8e",
   "metadata": {},
   "source": []
  },
  {
   "cell_type": "markdown",
   "id": "0c064bb7",
   "metadata": {},
   "source": []
  },
  {
   "cell_type": "markdown",
   "id": "83605f70",
   "metadata": {},
   "source": []
  },
  {
   "cell_type": "markdown",
   "id": "b2756301",
   "metadata": {},
   "source": []
  },
  {
   "cell_type": "markdown",
   "id": "b189770d",
   "metadata": {},
   "source": []
  },
  {
   "cell_type": "markdown",
   "id": "63b3cf8f",
   "metadata": {},
   "source": []
  },
  {
   "cell_type": "markdown",
   "id": "19187d3d",
   "metadata": {},
   "source": []
  },
  {
   "cell_type": "markdown",
   "id": "c80623f4",
   "metadata": {},
   "source": []
  },
  {
   "cell_type": "markdown",
   "id": "9eec527e",
   "metadata": {},
   "source": []
  },
  {
   "cell_type": "markdown",
   "id": "e29871f0",
   "metadata": {},
   "source": []
  },
  {
   "cell_type": "markdown",
   "id": "81c1a836",
   "metadata": {},
   "source": []
  },
  {
   "cell_type": "markdown",
   "id": "3dbe4a83",
   "metadata": {},
   "source": []
  },
  {
   "cell_type": "markdown",
   "id": "78a85101",
   "metadata": {},
   "source": []
  },
  {
   "cell_type": "markdown",
   "id": "4bfc90a6",
   "metadata": {},
   "source": []
  },
  {
   "cell_type": "markdown",
   "id": "4571c8c2",
   "metadata": {},
   "source": []
  },
  {
   "cell_type": "markdown",
   "id": "7e29fe8f",
   "metadata": {},
   "source": []
  },
  {
   "cell_type": "markdown",
   "id": "abba316b",
   "metadata": {},
   "source": []
  },
  {
   "cell_type": "markdown",
   "id": "5aea88f5",
   "metadata": {},
   "source": []
  },
  {
   "cell_type": "markdown",
   "id": "f276477e",
   "metadata": {},
   "source": []
  },
  {
   "cell_type": "markdown",
   "id": "65942fdd",
   "metadata": {},
   "source": []
  },
  {
   "cell_type": "markdown",
   "id": "2e2f6bc2",
   "metadata": {},
   "source": []
  },
  {
   "cell_type": "markdown",
   "id": "5f808909",
   "metadata": {},
   "source": []
  },
  {
   "cell_type": "markdown",
   "id": "6442a4e9",
   "metadata": {},
   "source": []
  },
  {
   "cell_type": "markdown",
   "id": "699b463a",
   "metadata": {},
   "source": []
  },
  {
   "cell_type": "markdown",
   "id": "15800ac1",
   "metadata": {},
   "source": []
  },
  {
   "cell_type": "markdown",
   "id": "6555abf1",
   "metadata": {},
   "source": []
  },
  {
   "cell_type": "markdown",
   "id": "d84d88a8",
   "metadata": {},
   "source": []
  },
  {
   "cell_type": "markdown",
   "id": "e53685a7",
   "metadata": {},
   "source": []
  },
  {
   "cell_type": "markdown",
   "id": "3461520b",
   "metadata": {},
   "source": []
  },
  {
   "cell_type": "markdown",
   "id": "6b16f4e9",
   "metadata": {},
   "source": []
  },
  {
   "cell_type": "markdown",
   "id": "47cf37b3",
   "metadata": {},
   "source": []
  },
  {
   "cell_type": "markdown",
   "id": "13f5a61e",
   "metadata": {},
   "source": []
  },
  {
   "cell_type": "markdown",
   "id": "68b820c6",
   "metadata": {},
   "source": []
  },
  {
   "cell_type": "markdown",
   "id": "13f563bd",
   "metadata": {},
   "source": []
  },
  {
   "cell_type": "markdown",
   "id": "16fdc470",
   "metadata": {},
   "source": []
  },
  {
   "cell_type": "markdown",
   "id": "7fb9a052",
   "metadata": {},
   "source": []
  },
  {
   "cell_type": "markdown",
   "id": "b85fd0fd",
   "metadata": {},
   "source": []
  },
  {
   "cell_type": "markdown",
   "id": "ebb1a2e6",
   "metadata": {},
   "source": []
  },
  {
   "cell_type": "markdown",
   "id": "6ed8b3b8",
   "metadata": {},
   "source": []
  },
  {
   "cell_type": "markdown",
   "id": "5a868e1f",
   "metadata": {},
   "source": []
  },
  {
   "cell_type": "markdown",
   "id": "94cfe39d",
   "metadata": {},
   "source": []
  },
  {
   "cell_type": "markdown",
   "id": "e3b9024c",
   "metadata": {},
   "source": []
  },
  {
   "cell_type": "markdown",
   "id": "38691717",
   "metadata": {},
   "source": []
  },
  {
   "cell_type": "markdown",
   "id": "de45c4d2",
   "metadata": {},
   "source": []
  },
  {
   "cell_type": "markdown",
   "id": "2389814b",
   "metadata": {},
   "source": []
  },
  {
   "cell_type": "markdown",
   "id": "8828b82b",
   "metadata": {},
   "source": []
  },
  {
   "cell_type": "markdown",
   "id": "7833bb41",
   "metadata": {},
   "source": []
  },
  {
   "cell_type": "markdown",
   "id": "fa9e7ce3",
   "metadata": {},
   "source": []
  },
  {
   "cell_type": "markdown",
   "id": "d13edcd3",
   "metadata": {},
   "source": []
  },
  {
   "cell_type": "markdown",
   "id": "b772ef6c",
   "metadata": {},
   "source": []
  },
  {
   "cell_type": "markdown",
   "id": "f151980d",
   "metadata": {},
   "source": []
  },
  {
   "cell_type": "markdown",
   "id": "47a3de25",
   "metadata": {},
   "source": []
  },
  {
   "cell_type": "markdown",
   "id": "25ba188f",
   "metadata": {},
   "source": []
  },
  {
   "cell_type": "markdown",
   "id": "930a7be5",
   "metadata": {},
   "source": []
  },
  {
   "cell_type": "markdown",
   "id": "cd54e4c8",
   "metadata": {},
   "source": []
  },
  {
   "cell_type": "markdown",
   "id": "e168d1bc",
   "metadata": {},
   "source": []
  },
  {
   "cell_type": "markdown",
   "id": "344d5a9b",
   "metadata": {},
   "source": []
  },
  {
   "cell_type": "markdown",
   "id": "ae856519",
   "metadata": {},
   "source": []
  },
  {
   "cell_type": "markdown",
   "id": "0a671fc9",
   "metadata": {},
   "source": []
  },
  {
   "cell_type": "markdown",
   "id": "bab4e55c",
   "metadata": {},
   "source": []
  },
  {
   "cell_type": "markdown",
   "id": "7c12d91c",
   "metadata": {},
   "source": []
  },
  {
   "cell_type": "markdown",
   "id": "de8ccc39",
   "metadata": {},
   "source": []
  },
  {
   "cell_type": "markdown",
   "id": "e4f6afb6",
   "metadata": {},
   "source": []
  },
  {
   "cell_type": "markdown",
   "id": "1c590807",
   "metadata": {},
   "source": []
  },
  {
   "cell_type": "markdown",
   "id": "c7affe74",
   "metadata": {},
   "source": []
  },
  {
   "cell_type": "markdown",
   "id": "99f3d5fd",
   "metadata": {},
   "source": []
  },
  {
   "cell_type": "markdown",
   "id": "f660c70d",
   "metadata": {},
   "source": []
  },
  {
   "cell_type": "markdown",
   "id": "151486f9",
   "metadata": {},
   "source": []
  },
  {
   "cell_type": "markdown",
   "id": "9921bd69",
   "metadata": {},
   "source": []
  },
  {
   "cell_type": "markdown",
   "id": "779546a2",
   "metadata": {},
   "source": []
  },
  {
   "cell_type": "markdown",
   "id": "a7fc2938",
   "metadata": {},
   "source": []
  },
  {
   "cell_type": "markdown",
   "id": "973c8c69",
   "metadata": {},
   "source": []
  },
  {
   "cell_type": "markdown",
   "id": "0921a4f3",
   "metadata": {},
   "source": []
  },
  {
   "cell_type": "markdown",
   "id": "d6600dc7",
   "metadata": {},
   "source": []
  },
  {
   "cell_type": "markdown",
   "id": "e82990ce",
   "metadata": {},
   "source": []
  },
  {
   "cell_type": "markdown",
   "id": "5ed168b8",
   "metadata": {},
   "source": []
  },
  {
   "cell_type": "markdown",
   "id": "00193693",
   "metadata": {},
   "source": []
  },
  {
   "cell_type": "markdown",
   "id": "2a446630",
   "metadata": {},
   "source": []
  },
  {
   "cell_type": "markdown",
   "id": "5f6ad80f",
   "metadata": {},
   "source": []
  },
  {
   "cell_type": "markdown",
   "id": "d97441a8",
   "metadata": {},
   "source": []
  },
  {
   "cell_type": "markdown",
   "id": "68bbd232",
   "metadata": {},
   "source": []
  },
  {
   "cell_type": "markdown",
   "id": "8f5df9f1",
   "metadata": {},
   "source": []
  },
  {
   "cell_type": "markdown",
   "id": "e844ebb2",
   "metadata": {},
   "source": []
  },
  {
   "cell_type": "markdown",
   "id": "8e864b40",
   "metadata": {},
   "source": []
  },
  {
   "cell_type": "markdown",
   "id": "62d4bf6e",
   "metadata": {},
   "source": []
  },
  {
   "cell_type": "markdown",
   "id": "5a8768ec",
   "metadata": {},
   "source": []
  },
  {
   "cell_type": "markdown",
   "id": "4eae1745",
   "metadata": {},
   "source": []
  },
  {
   "cell_type": "markdown",
   "id": "e30f4b3e",
   "metadata": {},
   "source": []
  },
  {
   "cell_type": "markdown",
   "id": "6aeefe7d",
   "metadata": {},
   "source": []
  },
  {
   "cell_type": "markdown",
   "id": "cce5d927",
   "metadata": {},
   "source": []
  },
  {
   "cell_type": "markdown",
   "id": "6a7df670",
   "metadata": {},
   "source": []
  },
  {
   "cell_type": "markdown",
   "id": "7070ca51",
   "metadata": {},
   "source": []
  },
  {
   "cell_type": "markdown",
   "id": "5aa5edd3",
   "metadata": {},
   "source": []
  },
  {
   "cell_type": "markdown",
   "id": "dfb5d4e7",
   "metadata": {},
   "source": []
  },
  {
   "cell_type": "markdown",
   "id": "1194b082",
   "metadata": {},
   "source": []
  },
  {
   "cell_type": "markdown",
   "id": "63005887",
   "metadata": {},
   "source": []
  },
  {
   "cell_type": "markdown",
   "id": "fa473740",
   "metadata": {},
   "source": []
  },
  {
   "cell_type": "markdown",
   "id": "863f18ca",
   "metadata": {},
   "source": []
  },
  {
   "cell_type": "markdown",
   "id": "606c5b96",
   "metadata": {},
   "source": []
  },
  {
   "cell_type": "markdown",
   "id": "9b8f9d3f",
   "metadata": {},
   "source": []
  },
  {
   "cell_type": "markdown",
   "id": "28c185f1",
   "metadata": {},
   "source": []
  },
  {
   "cell_type": "markdown",
   "id": "b55f3fca",
   "metadata": {},
   "source": []
  },
  {
   "cell_type": "markdown",
   "id": "a56f743a",
   "metadata": {},
   "source": []
  },
  {
   "cell_type": "markdown",
   "id": "4264bb61",
   "metadata": {},
   "source": []
  },
  {
   "cell_type": "markdown",
   "id": "958f0636",
   "metadata": {},
   "source": []
  },
  {
   "cell_type": "markdown",
   "id": "3f731f1c",
   "metadata": {},
   "source": []
  },
  {
   "cell_type": "markdown",
   "id": "87f1946b",
   "metadata": {},
   "source": []
  },
  {
   "cell_type": "markdown",
   "id": "889d2329",
   "metadata": {},
   "source": []
  },
  {
   "cell_type": "markdown",
   "id": "728e863e",
   "metadata": {},
   "source": []
  },
  {
   "cell_type": "markdown",
   "id": "4102a8da",
   "metadata": {},
   "source": []
  },
  {
   "cell_type": "markdown",
   "id": "7f9db524",
   "metadata": {},
   "source": []
  },
  {
   "cell_type": "markdown",
   "id": "5e877ff2",
   "metadata": {},
   "source": []
  },
  {
   "cell_type": "markdown",
   "id": "21392dc4",
   "metadata": {},
   "source": []
  },
  {
   "cell_type": "markdown",
   "id": "1e16856e",
   "metadata": {},
   "source": []
  },
  {
   "cell_type": "markdown",
   "id": "e6d6f2e2",
   "metadata": {},
   "source": []
  },
  {
   "cell_type": "markdown",
   "id": "074f5654",
   "metadata": {},
   "source": []
  },
  {
   "cell_type": "markdown",
   "id": "26401b05",
   "metadata": {},
   "source": []
  },
  {
   "cell_type": "markdown",
   "id": "19ffcfe9",
   "metadata": {},
   "source": []
  },
  {
   "cell_type": "markdown",
   "id": "d19816f9",
   "metadata": {},
   "source": []
  },
  {
   "cell_type": "markdown",
   "id": "6a8dfeb5",
   "metadata": {},
   "source": []
  },
  {
   "cell_type": "markdown",
   "id": "8296d1fd",
   "metadata": {},
   "source": []
  },
  {
   "cell_type": "markdown",
   "id": "9ec4c20c",
   "metadata": {},
   "source": []
  },
  {
   "cell_type": "markdown",
   "id": "af96740b",
   "metadata": {},
   "source": []
  },
  {
   "cell_type": "markdown",
   "id": "1ce21c58",
   "metadata": {},
   "source": []
  },
  {
   "cell_type": "markdown",
   "id": "d36a6408",
   "metadata": {},
   "source": []
  },
  {
   "cell_type": "markdown",
   "id": "e4767f71",
   "metadata": {},
   "source": []
  },
  {
   "cell_type": "markdown",
   "id": "7deb0da5",
   "metadata": {},
   "source": []
  },
  {
   "cell_type": "markdown",
   "id": "b579e7ca",
   "metadata": {},
   "source": []
  },
  {
   "cell_type": "markdown",
   "id": "86dfd907",
   "metadata": {},
   "source": []
  },
  {
   "cell_type": "markdown",
   "id": "b14e846c",
   "metadata": {},
   "source": []
  },
  {
   "cell_type": "markdown",
   "id": "c02b8933",
   "metadata": {},
   "source": []
  },
  {
   "cell_type": "markdown",
   "id": "2605f9ff",
   "metadata": {},
   "source": []
  },
  {
   "cell_type": "markdown",
   "id": "b3f964f4",
   "metadata": {},
   "source": []
  },
  {
   "cell_type": "markdown",
   "id": "38e488cb",
   "metadata": {},
   "source": []
  }
 ],
 "metadata": {
  "kernelspec": {
   "display_name": "Python 3 (ipykernel)",
   "language": "python",
   "name": "python3"
  },
  "language_info": {
   "codemirror_mode": {
    "name": "ipython",
    "version": 3
   },
   "file_extension": ".py",
   "mimetype": "text/x-python",
   "name": "python",
   "nbconvert_exporter": "python",
   "pygments_lexer": "ipython3",
   "version": "3.9.15"
  }
 },
 "nbformat": 4,
 "nbformat_minor": 5
}
