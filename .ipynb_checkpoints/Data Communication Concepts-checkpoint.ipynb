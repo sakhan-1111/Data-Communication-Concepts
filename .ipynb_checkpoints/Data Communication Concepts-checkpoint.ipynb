{
 "cells": [
  {
   "cell_type": "markdown",
   "id": "0b732dca",
   "metadata": {},
   "source": [
    "# 1 Storytelling with Data\n",
    "\n",
    "Let's start with the importance of data storytelling and the elements you need to tell stories with data. You'll learn best practices to influence how decisions are made before learning how to translate technical results into stories for non-technical stakeholders."
   ]
  },
  {
   "cell_type": "markdown",
   "id": "e678fb57",
   "metadata": {},
   "source": [
    "## 1.1 Fundamentals of storytelling"
   ]
  },
  {
   "cell_type": "markdown",
   "id": "c755b246",
   "metadata": {},
   "source": [
    "## 1.2 The story begins\n",
    "\n",
    "You recently started working as a data scientist at a company named *Communicatb*. For your first project, you and your team need to analyze churn customer data for a cell phone company. The goal is to predict their behavior and help develop a program to retain customers.\n",
    "\n",
    "Your team lead knows you are an expert on storytelling. She asks you to explain to the team why crafting a compelling story is important when delivering results. You write down a list of reasons to be prepared.\n",
    "\n",
    "---\n",
    "\n",
    "One of the statements you wrote is **false**. Can you select which one is it?"
   ]
  },
  {
   "cell_type": "markdown",
   "id": "62e62e06",
   "metadata": {},
   "source": [
    "### 1.2.1 Answer the question\n",
    "\n",
    "### Possible Answers\n",
    "\n",
    "- [ ] It will be easier for the audience to remember an anecdote on why customers churn than the correlation coefficients between customer traits.\n",
    "\n",
    "- [ ] Your findings will be better aligned with change-adverse stakeholder expectations. They will be most likely to implement the program to retain customers.\n",
    "\n",
    "- [x] Even if your data do not reveal a distinct customer behavior, storytelling might influence stakeholders to create the retention program.\n",
    "\n",
    "- [ ] The marketing team will have a better understanding of the impact of your model. It is central since they are creating the retention program."
   ]
  },
  {
   "cell_type": "markdown",
   "id": "cace9e83",
   "metadata": {},
   "source": [
    "## 1.3 Building a story\n",
    "\n",
    "You nailed it! Your explanation of why stories are efficient when conveying insights went very well! Now, your team lead would like you to give a short presentation. You're going explain the different steps involved in telling a story with data to the team. It will be the starting point for delivering the results of the churn project when ready.\n",
    "\n",
    "You know it is an important task. To prepare your talk, you look for your notes on the storytelling course you took, but realize that some parts are erased. So you need to remember the do's and dont's of data storytelling.\n",
    "\n",
    "Which of the following statements about effective data storytelling are true, and which are false?"
   ]
  },
  {
   "cell_type": "markdown",
   "id": "4e9a64d7",
   "metadata": {},
   "source": [
    "### 1.3.1 Instructions\n",
    "\n",
    "Correctly classify the statements as either true or false.\n",
    "\n",
    "| True                                                                                                                       | False                                                                                            |\n",
    "|:--------------------------------------------------------------------------------------------------------------------------:|:------------------------------------------------------------------------------------------------:|\n",
    "| To drive change, center your story around how the company's profits will increase if the retention program is implemented. | For adding value, include all customers traits analyzed to understand why customers churn.       |\n",
    "| Present one supporting customers data point after each other so they naturally reach a conclusion.                         | To drive change, include data from a successful retention program launched in a similar company. |\n",
    "| To create a compelling narrative, connect the most important findings to actions of the retention programs.                | To be clear and concise, build one story and present it to the managers and your technical team. |"
   ]
  },
  {
   "cell_type": "markdown",
   "id": "6d85e27b",
   "metadata": {},
   "source": [
    "## 1.4 Translating technical results"
   ]
  },
  {
   "cell_type": "markdown",
   "id": "3263ef07",
   "metadata": {},
   "source": []
  },
  {
   "cell_type": "markdown",
   "id": "4d0ca932",
   "metadata": {},
   "source": []
  },
  {
   "cell_type": "markdown",
   "id": "192f7614",
   "metadata": {},
   "source": []
  },
  {
   "cell_type": "markdown",
   "id": "b110da6d",
   "metadata": {},
   "source": []
  },
  {
   "cell_type": "markdown",
   "id": "19c4acce",
   "metadata": {},
   "source": []
  },
  {
   "cell_type": "markdown",
   "id": "9b6ab685",
   "metadata": {},
   "source": []
  },
  {
   "cell_type": "markdown",
   "id": "16452676",
   "metadata": {},
   "source": []
  },
  {
   "cell_type": "markdown",
   "id": "bb5e1e13",
   "metadata": {},
   "source": []
  },
  {
   "cell_type": "markdown",
   "id": "666ff31e",
   "metadata": {},
   "source": []
  },
  {
   "cell_type": "markdown",
   "id": "f1f87286",
   "metadata": {},
   "source": []
  },
  {
   "cell_type": "markdown",
   "id": "59b6c932",
   "metadata": {},
   "source": []
  },
  {
   "cell_type": "markdown",
   "id": "8699dd1e",
   "metadata": {},
   "source": []
  },
  {
   "cell_type": "markdown",
   "id": "92f0843c",
   "metadata": {},
   "source": []
  },
  {
   "cell_type": "markdown",
   "id": "e8270dd5",
   "metadata": {},
   "source": []
  },
  {
   "cell_type": "markdown",
   "id": "abbfb0cd",
   "metadata": {},
   "source": []
  },
  {
   "cell_type": "markdown",
   "id": "d473658a",
   "metadata": {},
   "source": []
  },
  {
   "cell_type": "markdown",
   "id": "a2dd4b54",
   "metadata": {},
   "source": []
  },
  {
   "cell_type": "markdown",
   "id": "b59eb211",
   "metadata": {},
   "source": []
  },
  {
   "cell_type": "markdown",
   "id": "d6d3fe3f",
   "metadata": {},
   "source": []
  },
  {
   "cell_type": "markdown",
   "id": "d643f02d",
   "metadata": {},
   "source": []
  },
  {
   "cell_type": "markdown",
   "id": "b0748f01",
   "metadata": {},
   "source": []
  },
  {
   "cell_type": "markdown",
   "id": "6f4a2fd2",
   "metadata": {},
   "source": []
  },
  {
   "cell_type": "markdown",
   "id": "1e2a983e",
   "metadata": {},
   "source": []
  },
  {
   "cell_type": "markdown",
   "id": "91506324",
   "metadata": {},
   "source": []
  },
  {
   "cell_type": "markdown",
   "id": "68882b71",
   "metadata": {},
   "source": []
  },
  {
   "cell_type": "markdown",
   "id": "9291024a",
   "metadata": {},
   "source": []
  },
  {
   "cell_type": "markdown",
   "id": "796d950b",
   "metadata": {},
   "source": []
  },
  {
   "cell_type": "markdown",
   "id": "b1c3f4ee",
   "metadata": {},
   "source": []
  },
  {
   "cell_type": "markdown",
   "id": "ae1acea2",
   "metadata": {},
   "source": []
  },
  {
   "cell_type": "markdown",
   "id": "c8f7706b",
   "metadata": {},
   "source": []
  },
  {
   "cell_type": "markdown",
   "id": "a0ab7836",
   "metadata": {},
   "source": []
  },
  {
   "cell_type": "markdown",
   "id": "9ffe2ef0",
   "metadata": {},
   "source": []
  },
  {
   "cell_type": "markdown",
   "id": "a8749789",
   "metadata": {},
   "source": []
  },
  {
   "cell_type": "markdown",
   "id": "17435383",
   "metadata": {},
   "source": []
  },
  {
   "cell_type": "markdown",
   "id": "f4d6a574",
   "metadata": {},
   "source": []
  },
  {
   "cell_type": "markdown",
   "id": "0c655b8c",
   "metadata": {},
   "source": []
  },
  {
   "cell_type": "markdown",
   "id": "79add9b3",
   "metadata": {},
   "source": []
  },
  {
   "cell_type": "markdown",
   "id": "ff29947a",
   "metadata": {},
   "source": []
  },
  {
   "cell_type": "markdown",
   "id": "2616db57",
   "metadata": {},
   "source": []
  },
  {
   "cell_type": "markdown",
   "id": "e50108b4",
   "metadata": {},
   "source": []
  },
  {
   "cell_type": "markdown",
   "id": "b23340f8",
   "metadata": {},
   "source": []
  },
  {
   "cell_type": "markdown",
   "id": "09c940d4",
   "metadata": {},
   "source": []
  },
  {
   "cell_type": "markdown",
   "id": "aa602d2c",
   "metadata": {},
   "source": []
  },
  {
   "cell_type": "markdown",
   "id": "ba6dce00",
   "metadata": {},
   "source": []
  },
  {
   "cell_type": "markdown",
   "id": "8703d1a8",
   "metadata": {},
   "source": []
  },
  {
   "cell_type": "markdown",
   "id": "0526421a",
   "metadata": {},
   "source": []
  },
  {
   "cell_type": "markdown",
   "id": "e31803e6",
   "metadata": {},
   "source": []
  },
  {
   "cell_type": "markdown",
   "id": "52d6540d",
   "metadata": {},
   "source": []
  },
  {
   "cell_type": "markdown",
   "id": "34f5f996",
   "metadata": {},
   "source": []
  },
  {
   "cell_type": "markdown",
   "id": "d0d9c810",
   "metadata": {},
   "source": []
  },
  {
   "cell_type": "markdown",
   "id": "90a3e7d1",
   "metadata": {},
   "source": []
  },
  {
   "cell_type": "markdown",
   "id": "dd6a8826",
   "metadata": {},
   "source": []
  },
  {
   "cell_type": "markdown",
   "id": "f4144143",
   "metadata": {},
   "source": []
  },
  {
   "cell_type": "markdown",
   "id": "3b237bd5",
   "metadata": {},
   "source": []
  },
  {
   "cell_type": "markdown",
   "id": "6d85337e",
   "metadata": {},
   "source": []
  },
  {
   "cell_type": "markdown",
   "id": "27021365",
   "metadata": {},
   "source": []
  },
  {
   "cell_type": "markdown",
   "id": "92be7e44",
   "metadata": {},
   "source": []
  },
  {
   "cell_type": "markdown",
   "id": "4b563641",
   "metadata": {},
   "source": []
  },
  {
   "cell_type": "markdown",
   "id": "17a1b078",
   "metadata": {},
   "source": []
  },
  {
   "cell_type": "markdown",
   "id": "8aea56c6",
   "metadata": {},
   "source": []
  },
  {
   "cell_type": "markdown",
   "id": "c5900b90",
   "metadata": {},
   "source": []
  },
  {
   "cell_type": "markdown",
   "id": "ef17c1e5",
   "metadata": {},
   "source": []
  },
  {
   "cell_type": "markdown",
   "id": "6e6db832",
   "metadata": {},
   "source": []
  },
  {
   "cell_type": "markdown",
   "id": "13ecde6e",
   "metadata": {},
   "source": []
  },
  {
   "cell_type": "markdown",
   "id": "c54ba46d",
   "metadata": {},
   "source": []
  },
  {
   "cell_type": "markdown",
   "id": "5fb5f264",
   "metadata": {},
   "source": []
  },
  {
   "cell_type": "markdown",
   "id": "b061478c",
   "metadata": {},
   "source": []
  },
  {
   "cell_type": "markdown",
   "id": "e9238f74",
   "metadata": {},
   "source": []
  },
  {
   "cell_type": "markdown",
   "id": "2c95f4e7",
   "metadata": {},
   "source": []
  },
  {
   "cell_type": "markdown",
   "id": "ca05d7e8",
   "metadata": {},
   "source": []
  },
  {
   "cell_type": "markdown",
   "id": "69fa6721",
   "metadata": {},
   "source": []
  },
  {
   "cell_type": "markdown",
   "id": "15a4ec0d",
   "metadata": {},
   "source": []
  },
  {
   "cell_type": "markdown",
   "id": "d55a2b2d",
   "metadata": {},
   "source": []
  },
  {
   "cell_type": "markdown",
   "id": "0ba357ca",
   "metadata": {},
   "source": []
  },
  {
   "cell_type": "markdown",
   "id": "590bac90",
   "metadata": {},
   "source": []
  },
  {
   "cell_type": "markdown",
   "id": "22d52f74",
   "metadata": {},
   "source": []
  },
  {
   "cell_type": "markdown",
   "id": "a1199a41",
   "metadata": {},
   "source": []
  },
  {
   "cell_type": "markdown",
   "id": "1ac1aa22",
   "metadata": {},
   "source": []
  },
  {
   "cell_type": "markdown",
   "id": "c2657951",
   "metadata": {},
   "source": []
  },
  {
   "cell_type": "markdown",
   "id": "a41793d6",
   "metadata": {},
   "source": []
  },
  {
   "cell_type": "markdown",
   "id": "0511a7ac",
   "metadata": {},
   "source": []
  },
  {
   "cell_type": "markdown",
   "id": "297a81f7",
   "metadata": {},
   "source": []
  },
  {
   "cell_type": "markdown",
   "id": "dc01a101",
   "metadata": {},
   "source": []
  },
  {
   "cell_type": "markdown",
   "id": "9c59ca01",
   "metadata": {},
   "source": []
  },
  {
   "cell_type": "markdown",
   "id": "a6569fab",
   "metadata": {},
   "source": []
  },
  {
   "cell_type": "markdown",
   "id": "dd6b1093",
   "metadata": {},
   "source": []
  },
  {
   "cell_type": "markdown",
   "id": "251b9375",
   "metadata": {},
   "source": []
  },
  {
   "cell_type": "markdown",
   "id": "d492d621",
   "metadata": {},
   "source": []
  },
  {
   "cell_type": "markdown",
   "id": "1bef68d5",
   "metadata": {},
   "source": []
  },
  {
   "cell_type": "markdown",
   "id": "770bd9b4",
   "metadata": {},
   "source": []
  },
  {
   "cell_type": "markdown",
   "id": "9f753273",
   "metadata": {},
   "source": []
  },
  {
   "cell_type": "markdown",
   "id": "1c14ab36",
   "metadata": {},
   "source": []
  },
  {
   "cell_type": "markdown",
   "id": "7ede926c",
   "metadata": {},
   "source": []
  },
  {
   "cell_type": "markdown",
   "id": "14bc0e1a",
   "metadata": {},
   "source": []
  },
  {
   "cell_type": "markdown",
   "id": "a68e96bf",
   "metadata": {},
   "source": []
  },
  {
   "cell_type": "markdown",
   "id": "d4a79573",
   "metadata": {},
   "source": []
  },
  {
   "cell_type": "markdown",
   "id": "007a24db",
   "metadata": {},
   "source": []
  },
  {
   "cell_type": "markdown",
   "id": "1f637dbc",
   "metadata": {},
   "source": []
  },
  {
   "cell_type": "markdown",
   "id": "9b90483d",
   "metadata": {},
   "source": []
  },
  {
   "cell_type": "markdown",
   "id": "aadd6974",
   "metadata": {},
   "source": []
  },
  {
   "cell_type": "markdown",
   "id": "cad66a23",
   "metadata": {},
   "source": []
  },
  {
   "cell_type": "markdown",
   "id": "bcb788a1",
   "metadata": {},
   "source": []
  },
  {
   "cell_type": "markdown",
   "id": "dc6f6862",
   "metadata": {},
   "source": []
  },
  {
   "cell_type": "markdown",
   "id": "9ca1b329",
   "metadata": {},
   "source": []
  },
  {
   "cell_type": "markdown",
   "id": "57dddd4a",
   "metadata": {},
   "source": []
  },
  {
   "cell_type": "markdown",
   "id": "cd67c023",
   "metadata": {},
   "source": []
  },
  {
   "cell_type": "markdown",
   "id": "81d2114d",
   "metadata": {},
   "source": []
  },
  {
   "cell_type": "markdown",
   "id": "a6407b80",
   "metadata": {},
   "source": []
  },
  {
   "cell_type": "markdown",
   "id": "9bd205b3",
   "metadata": {},
   "source": []
  },
  {
   "cell_type": "markdown",
   "id": "478c173e",
   "metadata": {},
   "source": []
  },
  {
   "cell_type": "markdown",
   "id": "23617022",
   "metadata": {},
   "source": []
  },
  {
   "cell_type": "markdown",
   "id": "6ec1e016",
   "metadata": {},
   "source": []
  },
  {
   "cell_type": "markdown",
   "id": "04ad614d",
   "metadata": {},
   "source": []
  },
  {
   "cell_type": "markdown",
   "id": "80fb8918",
   "metadata": {},
   "source": []
  },
  {
   "cell_type": "markdown",
   "id": "6f0332fe",
   "metadata": {},
   "source": []
  },
  {
   "cell_type": "markdown",
   "id": "f1100ead",
   "metadata": {},
   "source": []
  },
  {
   "cell_type": "markdown",
   "id": "76f7e001",
   "metadata": {},
   "source": []
  },
  {
   "cell_type": "markdown",
   "id": "a5834f22",
   "metadata": {},
   "source": []
  },
  {
   "cell_type": "markdown",
   "id": "52c79087",
   "metadata": {},
   "source": []
  },
  {
   "cell_type": "markdown",
   "id": "1a43ddf2",
   "metadata": {},
   "source": []
  },
  {
   "cell_type": "markdown",
   "id": "08c2afc9",
   "metadata": {},
   "source": []
  },
  {
   "cell_type": "markdown",
   "id": "9bd42d4d",
   "metadata": {},
   "source": []
  },
  {
   "cell_type": "markdown",
   "id": "c71576cb",
   "metadata": {},
   "source": []
  },
  {
   "cell_type": "markdown",
   "id": "076d2512",
   "metadata": {},
   "source": []
  },
  {
   "cell_type": "markdown",
   "id": "804f9a8e",
   "metadata": {},
   "source": []
  },
  {
   "cell_type": "markdown",
   "id": "80427c0a",
   "metadata": {},
   "source": []
  },
  {
   "cell_type": "markdown",
   "id": "700dc633",
   "metadata": {},
   "source": []
  },
  {
   "cell_type": "markdown",
   "id": "990d6eb4",
   "metadata": {},
   "source": []
  },
  {
   "cell_type": "markdown",
   "id": "636c0e68",
   "metadata": {},
   "source": []
  },
  {
   "cell_type": "markdown",
   "id": "020a2250",
   "metadata": {},
   "source": []
  },
  {
   "cell_type": "markdown",
   "id": "9ec0610a",
   "metadata": {},
   "source": []
  },
  {
   "cell_type": "markdown",
   "id": "56b2a89a",
   "metadata": {},
   "source": []
  },
  {
   "cell_type": "markdown",
   "id": "a6c862d8",
   "metadata": {},
   "source": []
  },
  {
   "cell_type": "markdown",
   "id": "0f64c930",
   "metadata": {},
   "source": []
  },
  {
   "cell_type": "markdown",
   "id": "d2a15af0",
   "metadata": {},
   "source": []
  },
  {
   "cell_type": "markdown",
   "id": "837a93e2",
   "metadata": {},
   "source": []
  },
  {
   "cell_type": "markdown",
   "id": "290b2c4b",
   "metadata": {},
   "source": []
  },
  {
   "cell_type": "markdown",
   "id": "7e9bdb7d",
   "metadata": {},
   "source": []
  },
  {
   "cell_type": "markdown",
   "id": "ee54da4e",
   "metadata": {},
   "source": []
  },
  {
   "cell_type": "markdown",
   "id": "e5acd099",
   "metadata": {},
   "source": []
  },
  {
   "cell_type": "markdown",
   "id": "8ffc02dc",
   "metadata": {},
   "source": []
  },
  {
   "cell_type": "markdown",
   "id": "6937f479",
   "metadata": {},
   "source": []
  },
  {
   "cell_type": "markdown",
   "id": "f2abda27",
   "metadata": {},
   "source": []
  },
  {
   "cell_type": "markdown",
   "id": "5dfc7b0b",
   "metadata": {},
   "source": []
  },
  {
   "cell_type": "markdown",
   "id": "a7fb6dd3",
   "metadata": {},
   "source": []
  },
  {
   "cell_type": "markdown",
   "id": "3d59b29d",
   "metadata": {},
   "source": []
  },
  {
   "cell_type": "markdown",
   "id": "9e826fad",
   "metadata": {},
   "source": []
  },
  {
   "cell_type": "markdown",
   "id": "ad08e673",
   "metadata": {},
   "source": []
  },
  {
   "cell_type": "markdown",
   "id": "055ff8da",
   "metadata": {},
   "source": []
  },
  {
   "cell_type": "markdown",
   "id": "2f48ae14",
   "metadata": {},
   "source": []
  },
  {
   "cell_type": "markdown",
   "id": "3c9dd1ed",
   "metadata": {},
   "source": []
  },
  {
   "cell_type": "markdown",
   "id": "44625f57",
   "metadata": {},
   "source": []
  },
  {
   "cell_type": "markdown",
   "id": "b00ba225",
   "metadata": {},
   "source": []
  },
  {
   "cell_type": "markdown",
   "id": "3d9e1091",
   "metadata": {},
   "source": []
  },
  {
   "cell_type": "markdown",
   "id": "c0daaea2",
   "metadata": {},
   "source": []
  },
  {
   "cell_type": "markdown",
   "id": "a98d612d",
   "metadata": {},
   "source": []
  },
  {
   "cell_type": "markdown",
   "id": "9af963e5",
   "metadata": {},
   "source": []
  },
  {
   "cell_type": "markdown",
   "id": "6d095ab8",
   "metadata": {},
   "source": []
  },
  {
   "cell_type": "markdown",
   "id": "bad06362",
   "metadata": {},
   "source": []
  },
  {
   "cell_type": "markdown",
   "id": "d597cc68",
   "metadata": {},
   "source": []
  },
  {
   "cell_type": "markdown",
   "id": "f7241501",
   "metadata": {},
   "source": []
  },
  {
   "cell_type": "markdown",
   "id": "43d8def4",
   "metadata": {},
   "source": []
  },
  {
   "cell_type": "markdown",
   "id": "146705aa",
   "metadata": {},
   "source": []
  },
  {
   "cell_type": "markdown",
   "id": "7727dfae",
   "metadata": {},
   "source": []
  },
  {
   "cell_type": "markdown",
   "id": "f88a8678",
   "metadata": {},
   "source": []
  },
  {
   "cell_type": "markdown",
   "id": "7ddcc042",
   "metadata": {},
   "source": []
  },
  {
   "cell_type": "markdown",
   "id": "41a88dfe",
   "metadata": {},
   "source": []
  },
  {
   "cell_type": "markdown",
   "id": "ee286764",
   "metadata": {},
   "source": []
  },
  {
   "cell_type": "markdown",
   "id": "6f4f08e8",
   "metadata": {},
   "source": []
  },
  {
   "cell_type": "markdown",
   "id": "e395ee8d",
   "metadata": {},
   "source": []
  },
  {
   "cell_type": "markdown",
   "id": "80e8d87a",
   "metadata": {},
   "source": []
  },
  {
   "cell_type": "markdown",
   "id": "eb992444",
   "metadata": {},
   "source": []
  },
  {
   "cell_type": "markdown",
   "id": "63f6c9f6",
   "metadata": {},
   "source": []
  },
  {
   "cell_type": "markdown",
   "id": "52f2ecdb",
   "metadata": {},
   "source": []
  },
  {
   "cell_type": "markdown",
   "id": "6639d543",
   "metadata": {},
   "source": []
  },
  {
   "cell_type": "markdown",
   "id": "d3a44936",
   "metadata": {},
   "source": []
  },
  {
   "cell_type": "markdown",
   "id": "c2857e15",
   "metadata": {},
   "source": []
  },
  {
   "cell_type": "markdown",
   "id": "c6dfee9d",
   "metadata": {},
   "source": []
  },
  {
   "cell_type": "markdown",
   "id": "a81a48f3",
   "metadata": {},
   "source": []
  },
  {
   "cell_type": "markdown",
   "id": "4f0640ef",
   "metadata": {},
   "source": []
  },
  {
   "cell_type": "markdown",
   "id": "293e7061",
   "metadata": {},
   "source": []
  },
  {
   "cell_type": "markdown",
   "id": "88483ea8",
   "metadata": {},
   "source": []
  },
  {
   "cell_type": "markdown",
   "id": "d660cc70",
   "metadata": {},
   "source": []
  },
  {
   "cell_type": "markdown",
   "id": "4ec7dfb0",
   "metadata": {},
   "source": []
  },
  {
   "cell_type": "markdown",
   "id": "6da5f9be",
   "metadata": {},
   "source": []
  },
  {
   "cell_type": "markdown",
   "id": "1d8c4290",
   "metadata": {},
   "source": []
  },
  {
   "cell_type": "markdown",
   "id": "0ac4c24a",
   "metadata": {},
   "source": []
  },
  {
   "cell_type": "markdown",
   "id": "817dfd95",
   "metadata": {},
   "source": []
  },
  {
   "cell_type": "markdown",
   "id": "7611d0cd",
   "metadata": {},
   "source": []
  },
  {
   "cell_type": "markdown",
   "id": "2d6e9014",
   "metadata": {},
   "source": []
  },
  {
   "cell_type": "markdown",
   "id": "26e2eacc",
   "metadata": {},
   "source": []
  },
  {
   "cell_type": "markdown",
   "id": "bc6292bb",
   "metadata": {},
   "source": []
  },
  {
   "cell_type": "markdown",
   "id": "e276ac63",
   "metadata": {},
   "source": []
  },
  {
   "cell_type": "markdown",
   "id": "e16f107f",
   "metadata": {},
   "source": []
  },
  {
   "cell_type": "markdown",
   "id": "b246199f",
   "metadata": {},
   "source": []
  },
  {
   "cell_type": "markdown",
   "id": "452fced6",
   "metadata": {},
   "source": []
  },
  {
   "cell_type": "markdown",
   "id": "ba4694ae",
   "metadata": {},
   "source": []
  },
  {
   "cell_type": "markdown",
   "id": "a352fa16",
   "metadata": {},
   "source": []
  },
  {
   "cell_type": "markdown",
   "id": "59c27f77",
   "metadata": {},
   "source": []
  },
  {
   "cell_type": "markdown",
   "id": "56970cdf",
   "metadata": {},
   "source": []
  },
  {
   "cell_type": "markdown",
   "id": "c1adb619",
   "metadata": {},
   "source": []
  },
  {
   "cell_type": "markdown",
   "id": "a19d3a52",
   "metadata": {},
   "source": []
  },
  {
   "cell_type": "markdown",
   "id": "c44a31cc",
   "metadata": {},
   "source": []
  },
  {
   "cell_type": "markdown",
   "id": "80b4187d",
   "metadata": {},
   "source": []
  },
  {
   "cell_type": "markdown",
   "id": "64eae60c",
   "metadata": {},
   "source": []
  },
  {
   "cell_type": "markdown",
   "id": "fb1b91f2",
   "metadata": {},
   "source": []
  },
  {
   "cell_type": "markdown",
   "id": "f80f2fff",
   "metadata": {},
   "source": []
  },
  {
   "cell_type": "markdown",
   "id": "7608ea55",
   "metadata": {},
   "source": []
  },
  {
   "cell_type": "markdown",
   "id": "d19d3e63",
   "metadata": {},
   "source": []
  },
  {
   "cell_type": "markdown",
   "id": "7496252a",
   "metadata": {},
   "source": []
  },
  {
   "cell_type": "markdown",
   "id": "bf3718ec",
   "metadata": {},
   "source": []
  },
  {
   "cell_type": "markdown",
   "id": "aa96ead1",
   "metadata": {},
   "source": []
  },
  {
   "cell_type": "markdown",
   "id": "318998bf",
   "metadata": {},
   "source": []
  },
  {
   "cell_type": "markdown",
   "id": "e8ad1386",
   "metadata": {},
   "source": []
  },
  {
   "cell_type": "markdown",
   "id": "f3274581",
   "metadata": {},
   "source": []
  },
  {
   "cell_type": "markdown",
   "id": "94fb4811",
   "metadata": {},
   "source": []
  },
  {
   "cell_type": "markdown",
   "id": "a1f93e74",
   "metadata": {},
   "source": []
  },
  {
   "cell_type": "markdown",
   "id": "06c3d03f",
   "metadata": {},
   "source": []
  },
  {
   "cell_type": "markdown",
   "id": "d8ebe74d",
   "metadata": {},
   "source": []
  },
  {
   "cell_type": "markdown",
   "id": "da7b3595",
   "metadata": {},
   "source": []
  },
  {
   "cell_type": "markdown",
   "id": "832028d6",
   "metadata": {},
   "source": []
  },
  {
   "cell_type": "markdown",
   "id": "91e65079",
   "metadata": {},
   "source": []
  },
  {
   "cell_type": "markdown",
   "id": "e805031f",
   "metadata": {},
   "source": []
  },
  {
   "cell_type": "markdown",
   "id": "11b5e85a",
   "metadata": {},
   "source": []
  },
  {
   "cell_type": "markdown",
   "id": "6997251a",
   "metadata": {},
   "source": []
  },
  {
   "cell_type": "markdown",
   "id": "715d71ba",
   "metadata": {},
   "source": []
  },
  {
   "cell_type": "markdown",
   "id": "36140978",
   "metadata": {},
   "source": []
  },
  {
   "cell_type": "markdown",
   "id": "93a68f3e",
   "metadata": {},
   "source": []
  },
  {
   "cell_type": "markdown",
   "id": "d9b4c13b",
   "metadata": {},
   "source": []
  },
  {
   "cell_type": "markdown",
   "id": "07341bcd",
   "metadata": {},
   "source": []
  },
  {
   "cell_type": "markdown",
   "id": "e7fe0d4f",
   "metadata": {},
   "source": []
  },
  {
   "cell_type": "markdown",
   "id": "2a80bc9b",
   "metadata": {},
   "source": []
  },
  {
   "cell_type": "markdown",
   "id": "5a777f85",
   "metadata": {},
   "source": []
  },
  {
   "cell_type": "markdown",
   "id": "e0d8d0e9",
   "metadata": {},
   "source": []
  },
  {
   "cell_type": "markdown",
   "id": "a876e70d",
   "metadata": {},
   "source": []
  },
  {
   "cell_type": "markdown",
   "id": "499ab30b",
   "metadata": {},
   "source": []
  },
  {
   "cell_type": "markdown",
   "id": "79460981",
   "metadata": {},
   "source": []
  },
  {
   "cell_type": "markdown",
   "id": "f54fbdd0",
   "metadata": {},
   "source": []
  },
  {
   "cell_type": "markdown",
   "id": "c9e3e9fa",
   "metadata": {},
   "source": []
  },
  {
   "cell_type": "markdown",
   "id": "838f2ad8",
   "metadata": {},
   "source": []
  },
  {
   "cell_type": "markdown",
   "id": "5c3e7356",
   "metadata": {},
   "source": []
  },
  {
   "cell_type": "markdown",
   "id": "abcbf305",
   "metadata": {},
   "source": []
  },
  {
   "cell_type": "markdown",
   "id": "3be06898",
   "metadata": {},
   "source": []
  },
  {
   "cell_type": "markdown",
   "id": "6f481888",
   "metadata": {},
   "source": []
  },
  {
   "cell_type": "markdown",
   "id": "0b38ec61",
   "metadata": {},
   "source": []
  },
  {
   "cell_type": "markdown",
   "id": "e48b4ae0",
   "metadata": {},
   "source": []
  },
  {
   "cell_type": "markdown",
   "id": "acada40c",
   "metadata": {},
   "source": []
  },
  {
   "cell_type": "markdown",
   "id": "6520edc4",
   "metadata": {},
   "source": []
  },
  {
   "cell_type": "markdown",
   "id": "e33ca119",
   "metadata": {},
   "source": []
  },
  {
   "cell_type": "markdown",
   "id": "e678f2a1",
   "metadata": {},
   "source": []
  },
  {
   "cell_type": "markdown",
   "id": "f19acd9d",
   "metadata": {},
   "source": []
  },
  {
   "cell_type": "markdown",
   "id": "d19dab1d",
   "metadata": {},
   "source": []
  },
  {
   "cell_type": "markdown",
   "id": "82000545",
   "metadata": {},
   "source": []
  },
  {
   "cell_type": "markdown",
   "id": "4e466644",
   "metadata": {},
   "source": []
  },
  {
   "cell_type": "markdown",
   "id": "f56fb4c5",
   "metadata": {},
   "source": []
  },
  {
   "cell_type": "markdown",
   "id": "17046b88",
   "metadata": {},
   "source": []
  },
  {
   "cell_type": "markdown",
   "id": "5aed1b9d",
   "metadata": {},
   "source": []
  },
  {
   "cell_type": "markdown",
   "id": "54091716",
   "metadata": {},
   "source": []
  },
  {
   "cell_type": "markdown",
   "id": "10763b8a",
   "metadata": {},
   "source": []
  },
  {
   "cell_type": "markdown",
   "id": "818dc329",
   "metadata": {},
   "source": []
  },
  {
   "cell_type": "markdown",
   "id": "1634d2d8",
   "metadata": {},
   "source": []
  },
  {
   "cell_type": "markdown",
   "id": "5a2556ff",
   "metadata": {},
   "source": []
  },
  {
   "cell_type": "markdown",
   "id": "b7d1f4ab",
   "metadata": {},
   "source": []
  },
  {
   "cell_type": "markdown",
   "id": "7b6c91db",
   "metadata": {},
   "source": []
  },
  {
   "cell_type": "markdown",
   "id": "50b14e72",
   "metadata": {},
   "source": []
  },
  {
   "cell_type": "markdown",
   "id": "97e7ffad",
   "metadata": {},
   "source": []
  },
  {
   "cell_type": "markdown",
   "id": "4362472c",
   "metadata": {},
   "source": []
  },
  {
   "cell_type": "markdown",
   "id": "856c1200",
   "metadata": {},
   "source": []
  },
  {
   "cell_type": "markdown",
   "id": "b1041e50",
   "metadata": {},
   "source": []
  },
  {
   "cell_type": "markdown",
   "id": "5fb2b155",
   "metadata": {},
   "source": []
  },
  {
   "cell_type": "markdown",
   "id": "2f3307c4",
   "metadata": {},
   "source": []
  },
  {
   "cell_type": "markdown",
   "id": "868aa06d",
   "metadata": {},
   "source": []
  },
  {
   "cell_type": "markdown",
   "id": "21600140",
   "metadata": {},
   "source": []
  },
  {
   "cell_type": "markdown",
   "id": "cbf99d87",
   "metadata": {},
   "source": []
  },
  {
   "cell_type": "markdown",
   "id": "318eb4ec",
   "metadata": {},
   "source": []
  },
  {
   "cell_type": "markdown",
   "id": "aeae227b",
   "metadata": {},
   "source": []
  },
  {
   "cell_type": "markdown",
   "id": "c5387e88",
   "metadata": {},
   "source": []
  },
  {
   "cell_type": "markdown",
   "id": "10644433",
   "metadata": {},
   "source": []
  },
  {
   "cell_type": "markdown",
   "id": "dd54ae12",
   "metadata": {},
   "source": []
  },
  {
   "cell_type": "markdown",
   "id": "6d30ef2b",
   "metadata": {},
   "source": []
  },
  {
   "cell_type": "markdown",
   "id": "9c8177eb",
   "metadata": {},
   "source": []
  },
  {
   "cell_type": "markdown",
   "id": "86374210",
   "metadata": {},
   "source": []
  },
  {
   "cell_type": "markdown",
   "id": "3209c5e9",
   "metadata": {},
   "source": []
  },
  {
   "cell_type": "markdown",
   "id": "49516583",
   "metadata": {},
   "source": []
  },
  {
   "cell_type": "markdown",
   "id": "a9c25a6d",
   "metadata": {},
   "source": []
  },
  {
   "cell_type": "markdown",
   "id": "cb6db6e2",
   "metadata": {},
   "source": []
  },
  {
   "cell_type": "markdown",
   "id": "8ec0b633",
   "metadata": {},
   "source": []
  },
  {
   "cell_type": "markdown",
   "id": "1a090f2c",
   "metadata": {},
   "source": []
  },
  {
   "cell_type": "markdown",
   "id": "7908bde4",
   "metadata": {},
   "source": []
  },
  {
   "cell_type": "markdown",
   "id": "e20492ab",
   "metadata": {},
   "source": []
  },
  {
   "cell_type": "markdown",
   "id": "045bbb52",
   "metadata": {},
   "source": []
  },
  {
   "cell_type": "markdown",
   "id": "f86c15be",
   "metadata": {},
   "source": []
  },
  {
   "cell_type": "markdown",
   "id": "c21f5431",
   "metadata": {},
   "source": []
  },
  {
   "cell_type": "markdown",
   "id": "5e772761",
   "metadata": {},
   "source": []
  },
  {
   "cell_type": "markdown",
   "id": "128a3628",
   "metadata": {},
   "source": []
  },
  {
   "cell_type": "markdown",
   "id": "ff3f30df",
   "metadata": {},
   "source": []
  },
  {
   "cell_type": "markdown",
   "id": "79477a04",
   "metadata": {},
   "source": []
  },
  {
   "cell_type": "markdown",
   "id": "a01d1529",
   "metadata": {},
   "source": []
  },
  {
   "cell_type": "markdown",
   "id": "f0db1c58",
   "metadata": {},
   "source": []
  },
  {
   "cell_type": "markdown",
   "id": "820d4883",
   "metadata": {},
   "source": []
  },
  {
   "cell_type": "markdown",
   "id": "58918f7e",
   "metadata": {},
   "source": []
  },
  {
   "cell_type": "markdown",
   "id": "d9ba0641",
   "metadata": {},
   "source": []
  },
  {
   "cell_type": "markdown",
   "id": "43396ff6",
   "metadata": {},
   "source": []
  },
  {
   "cell_type": "markdown",
   "id": "089d19a2",
   "metadata": {},
   "source": []
  },
  {
   "cell_type": "markdown",
   "id": "2c43736b",
   "metadata": {},
   "source": []
  },
  {
   "cell_type": "markdown",
   "id": "758c54bf",
   "metadata": {},
   "source": []
  },
  {
   "cell_type": "markdown",
   "id": "8623cc50",
   "metadata": {},
   "source": []
  },
  {
   "cell_type": "markdown",
   "id": "817c7fee",
   "metadata": {},
   "source": []
  },
  {
   "cell_type": "markdown",
   "id": "15bcf0ca",
   "metadata": {},
   "source": []
  },
  {
   "cell_type": "markdown",
   "id": "9ce43297",
   "metadata": {},
   "source": []
  },
  {
   "cell_type": "markdown",
   "id": "f9ecc880",
   "metadata": {},
   "source": []
  },
  {
   "cell_type": "markdown",
   "id": "03b35ee4",
   "metadata": {},
   "source": []
  }
 ],
 "metadata": {
  "kernelspec": {
   "display_name": "Python 3 (ipykernel)",
   "language": "python",
   "name": "python3"
  },
  "language_info": {
   "codemirror_mode": {
    "name": "ipython",
    "version": 3
   },
   "file_extension": ".py",
   "mimetype": "text/x-python",
   "name": "python",
   "nbconvert_exporter": "python",
   "pygments_lexer": "ipython3",
   "version": "3.9.15"
  }
 },
 "nbformat": 4,
 "nbformat_minor": 5
}
