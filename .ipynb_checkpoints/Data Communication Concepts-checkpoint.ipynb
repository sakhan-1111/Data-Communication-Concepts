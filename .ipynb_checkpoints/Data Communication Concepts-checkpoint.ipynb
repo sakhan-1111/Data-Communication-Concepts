{
 "cells": [
  {
   "cell_type": "markdown",
   "id": "f24c65a4",
   "metadata": {},
   "source": []
  },
  {
   "cell_type": "markdown",
   "id": "aeecb998",
   "metadata": {},
   "source": []
  },
  {
   "cell_type": "markdown",
   "id": "ababfea6",
   "metadata": {},
   "source": []
  },
  {
   "cell_type": "markdown",
   "id": "6310672e",
   "metadata": {},
   "source": []
  },
  {
   "cell_type": "markdown",
   "id": "ba876239",
   "metadata": {},
   "source": []
  },
  {
   "cell_type": "markdown",
   "id": "6fec176c",
   "metadata": {},
   "source": []
  },
  {
   "cell_type": "markdown",
   "id": "add13be7",
   "metadata": {},
   "source": []
  },
  {
   "cell_type": "markdown",
   "id": "658d075d",
   "metadata": {},
   "source": []
  },
  {
   "cell_type": "markdown",
   "id": "e286b28d",
   "metadata": {},
   "source": []
  },
  {
   "cell_type": "markdown",
   "id": "e50c0298",
   "metadata": {},
   "source": []
  },
  {
   "cell_type": "markdown",
   "id": "2805c28b",
   "metadata": {},
   "source": []
  },
  {
   "cell_type": "markdown",
   "id": "e14af6ae",
   "metadata": {},
   "source": []
  },
  {
   "cell_type": "markdown",
   "id": "a8cf5050",
   "metadata": {},
   "source": []
  },
  {
   "cell_type": "markdown",
   "id": "740259cb",
   "metadata": {},
   "source": []
  },
  {
   "cell_type": "markdown",
   "id": "b399ae30",
   "metadata": {},
   "source": []
  },
  {
   "cell_type": "markdown",
   "id": "d7a3caa3",
   "metadata": {},
   "source": []
  },
  {
   "cell_type": "markdown",
   "id": "11c7c2b5",
   "metadata": {},
   "source": []
  },
  {
   "cell_type": "markdown",
   "id": "c0ea4326",
   "metadata": {},
   "source": []
  },
  {
   "cell_type": "markdown",
   "id": "40f41dc2",
   "metadata": {},
   "source": []
  },
  {
   "cell_type": "markdown",
   "id": "4ee5c3c9",
   "metadata": {},
   "source": []
  },
  {
   "cell_type": "markdown",
   "id": "caba7268",
   "metadata": {},
   "source": []
  },
  {
   "cell_type": "markdown",
   "id": "9a9a476c",
   "metadata": {},
   "source": []
  },
  {
   "cell_type": "markdown",
   "id": "368be91d",
   "metadata": {},
   "source": []
  },
  {
   "cell_type": "markdown",
   "id": "9c94bae4",
   "metadata": {},
   "source": []
  },
  {
   "cell_type": "markdown",
   "id": "ff84e245",
   "metadata": {},
   "source": []
  },
  {
   "cell_type": "markdown",
   "id": "c184b57b",
   "metadata": {},
   "source": []
  },
  {
   "cell_type": "markdown",
   "id": "a0e720cf",
   "metadata": {},
   "source": []
  },
  {
   "cell_type": "markdown",
   "id": "0ff8b628",
   "metadata": {},
   "source": []
  },
  {
   "cell_type": "markdown",
   "id": "4c8fc7ef",
   "metadata": {},
   "source": []
  },
  {
   "cell_type": "markdown",
   "id": "1733324e",
   "metadata": {},
   "source": []
  },
  {
   "cell_type": "markdown",
   "id": "be3678f0",
   "metadata": {},
   "source": []
  },
  {
   "cell_type": "markdown",
   "id": "40965beb",
   "metadata": {},
   "source": []
  },
  {
   "cell_type": "markdown",
   "id": "927bd0bf",
   "metadata": {},
   "source": []
  },
  {
   "cell_type": "markdown",
   "id": "2c7962bd",
   "metadata": {},
   "source": []
  },
  {
   "cell_type": "markdown",
   "id": "7c04ae4a",
   "metadata": {},
   "source": []
  },
  {
   "cell_type": "markdown",
   "id": "c1e79a49",
   "metadata": {},
   "source": []
  },
  {
   "cell_type": "markdown",
   "id": "0f688a4e",
   "metadata": {},
   "source": []
  },
  {
   "cell_type": "markdown",
   "id": "4a68b523",
   "metadata": {},
   "source": []
  },
  {
   "cell_type": "markdown",
   "id": "24d039b0",
   "metadata": {},
   "source": []
  },
  {
   "cell_type": "markdown",
   "id": "87f27097",
   "metadata": {},
   "source": []
  },
  {
   "cell_type": "markdown",
   "id": "7ac14b5c",
   "metadata": {},
   "source": []
  },
  {
   "cell_type": "markdown",
   "id": "0a9f6b89",
   "metadata": {},
   "source": []
  },
  {
   "cell_type": "markdown",
   "id": "7ee687b4",
   "metadata": {},
   "source": []
  },
  {
   "cell_type": "markdown",
   "id": "d04fd1ad",
   "metadata": {},
   "source": []
  },
  {
   "cell_type": "markdown",
   "id": "39b995f0",
   "metadata": {},
   "source": []
  },
  {
   "cell_type": "markdown",
   "id": "3c91b92e",
   "metadata": {},
   "source": []
  },
  {
   "cell_type": "markdown",
   "id": "393a188e",
   "metadata": {},
   "source": []
  },
  {
   "cell_type": "markdown",
   "id": "f453487e",
   "metadata": {},
   "source": []
  },
  {
   "cell_type": "markdown",
   "id": "5ddce6a5",
   "metadata": {},
   "source": []
  },
  {
   "cell_type": "markdown",
   "id": "acf4f45c",
   "metadata": {},
   "source": []
  },
  {
   "cell_type": "markdown",
   "id": "d868c104",
   "metadata": {},
   "source": []
  },
  {
   "cell_type": "markdown",
   "id": "92e1168e",
   "metadata": {},
   "source": []
  },
  {
   "cell_type": "markdown",
   "id": "79618dbc",
   "metadata": {},
   "source": []
  },
  {
   "cell_type": "markdown",
   "id": "c5ae9aee",
   "metadata": {},
   "source": []
  },
  {
   "cell_type": "markdown",
   "id": "c86c9f04",
   "metadata": {},
   "source": []
  },
  {
   "cell_type": "markdown",
   "id": "dfb00668",
   "metadata": {},
   "source": []
  },
  {
   "cell_type": "markdown",
   "id": "30329830",
   "metadata": {},
   "source": []
  },
  {
   "cell_type": "markdown",
   "id": "c494a3e3",
   "metadata": {},
   "source": []
  },
  {
   "cell_type": "markdown",
   "id": "262acfde",
   "metadata": {},
   "source": []
  },
  {
   "cell_type": "markdown",
   "id": "247565ba",
   "metadata": {},
   "source": []
  },
  {
   "cell_type": "markdown",
   "id": "115806b7",
   "metadata": {},
   "source": []
  },
  {
   "cell_type": "markdown",
   "id": "93068d6c",
   "metadata": {},
   "source": []
  },
  {
   "cell_type": "markdown",
   "id": "1bc7af97",
   "metadata": {},
   "source": []
  },
  {
   "cell_type": "markdown",
   "id": "c96db2fe",
   "metadata": {},
   "source": []
  },
  {
   "cell_type": "markdown",
   "id": "1de26bf5",
   "metadata": {},
   "source": []
  },
  {
   "cell_type": "markdown",
   "id": "3dbf6a36",
   "metadata": {},
   "source": []
  },
  {
   "cell_type": "markdown",
   "id": "c89f8432",
   "metadata": {},
   "source": []
  },
  {
   "cell_type": "markdown",
   "id": "b276d1b6",
   "metadata": {},
   "source": []
  },
  {
   "cell_type": "markdown",
   "id": "f797f4ca",
   "metadata": {},
   "source": []
  },
  {
   "cell_type": "markdown",
   "id": "3faabe31",
   "metadata": {},
   "source": []
  },
  {
   "cell_type": "markdown",
   "id": "16cbaecb",
   "metadata": {},
   "source": []
  },
  {
   "cell_type": "markdown",
   "id": "99083ce2",
   "metadata": {},
   "source": []
  },
  {
   "cell_type": "markdown",
   "id": "c855904e",
   "metadata": {},
   "source": []
  },
  {
   "cell_type": "markdown",
   "id": "e81f16e5",
   "metadata": {},
   "source": []
  },
  {
   "cell_type": "markdown",
   "id": "4d5b9dca",
   "metadata": {},
   "source": []
  },
  {
   "cell_type": "markdown",
   "id": "a714aac9",
   "metadata": {},
   "source": []
  },
  {
   "cell_type": "markdown",
   "id": "3c1e05cc",
   "metadata": {},
   "source": []
  },
  {
   "cell_type": "markdown",
   "id": "db9ef837",
   "metadata": {},
   "source": []
  },
  {
   "cell_type": "markdown",
   "id": "9d199d2c",
   "metadata": {},
   "source": []
  },
  {
   "cell_type": "markdown",
   "id": "5706341e",
   "metadata": {},
   "source": []
  },
  {
   "cell_type": "markdown",
   "id": "c0984876",
   "metadata": {},
   "source": []
  },
  {
   "cell_type": "markdown",
   "id": "d33252e8",
   "metadata": {},
   "source": []
  },
  {
   "cell_type": "markdown",
   "id": "17e95f8e",
   "metadata": {},
   "source": []
  },
  {
   "cell_type": "markdown",
   "id": "a8065d5d",
   "metadata": {},
   "source": []
  },
  {
   "cell_type": "markdown",
   "id": "382e2790",
   "metadata": {},
   "source": []
  },
  {
   "cell_type": "markdown",
   "id": "5e21e6b3",
   "metadata": {},
   "source": []
  },
  {
   "cell_type": "markdown",
   "id": "5e617e5d",
   "metadata": {},
   "source": []
  },
  {
   "cell_type": "markdown",
   "id": "83f3635d",
   "metadata": {},
   "source": []
  },
  {
   "cell_type": "markdown",
   "id": "6a3f4f6f",
   "metadata": {},
   "source": []
  },
  {
   "cell_type": "markdown",
   "id": "5e96cb4c",
   "metadata": {},
   "source": []
  },
  {
   "cell_type": "markdown",
   "id": "f8af5dc6",
   "metadata": {},
   "source": []
  },
  {
   "cell_type": "markdown",
   "id": "df77df01",
   "metadata": {},
   "source": []
  },
  {
   "cell_type": "markdown",
   "id": "03bb1eff",
   "metadata": {},
   "source": []
  },
  {
   "cell_type": "markdown",
   "id": "da206922",
   "metadata": {},
   "source": []
  },
  {
   "cell_type": "markdown",
   "id": "60998510",
   "metadata": {},
   "source": []
  },
  {
   "cell_type": "markdown",
   "id": "dffbfb7b",
   "metadata": {},
   "source": []
  },
  {
   "cell_type": "markdown",
   "id": "7e251e67",
   "metadata": {},
   "source": []
  },
  {
   "cell_type": "markdown",
   "id": "e2e58523",
   "metadata": {},
   "source": []
  },
  {
   "cell_type": "markdown",
   "id": "61666ca6",
   "metadata": {},
   "source": []
  },
  {
   "cell_type": "markdown",
   "id": "d0e6a2d0",
   "metadata": {},
   "source": []
  },
  {
   "cell_type": "markdown",
   "id": "b249a540",
   "metadata": {},
   "source": []
  },
  {
   "cell_type": "markdown",
   "id": "2a29b0da",
   "metadata": {},
   "source": []
  },
  {
   "cell_type": "markdown",
   "id": "305a0575",
   "metadata": {},
   "source": []
  },
  {
   "cell_type": "markdown",
   "id": "130e12c5",
   "metadata": {},
   "source": []
  },
  {
   "cell_type": "markdown",
   "id": "efe877dd",
   "metadata": {},
   "source": []
  },
  {
   "cell_type": "markdown",
   "id": "f55cc371",
   "metadata": {},
   "source": []
  },
  {
   "cell_type": "markdown",
   "id": "3f16c72b",
   "metadata": {},
   "source": []
  },
  {
   "cell_type": "markdown",
   "id": "cb91e285",
   "metadata": {},
   "source": []
  },
  {
   "cell_type": "markdown",
   "id": "b3d48392",
   "metadata": {},
   "source": []
  },
  {
   "cell_type": "markdown",
   "id": "e03cc9aa",
   "metadata": {},
   "source": []
  },
  {
   "cell_type": "markdown",
   "id": "4cce5320",
   "metadata": {},
   "source": []
  },
  {
   "cell_type": "markdown",
   "id": "bdd89e7d",
   "metadata": {},
   "source": []
  },
  {
   "cell_type": "markdown",
   "id": "67919f18",
   "metadata": {},
   "source": []
  },
  {
   "cell_type": "markdown",
   "id": "c8a1b591",
   "metadata": {},
   "source": []
  },
  {
   "cell_type": "markdown",
   "id": "67aa5e0c",
   "metadata": {},
   "source": []
  },
  {
   "cell_type": "markdown",
   "id": "3257a4fe",
   "metadata": {},
   "source": []
  },
  {
   "cell_type": "markdown",
   "id": "89d349f0",
   "metadata": {},
   "source": []
  },
  {
   "cell_type": "markdown",
   "id": "1205b4c7",
   "metadata": {},
   "source": []
  },
  {
   "cell_type": "markdown",
   "id": "e86b909b",
   "metadata": {},
   "source": []
  },
  {
   "cell_type": "markdown",
   "id": "f5ec8b91",
   "metadata": {},
   "source": []
  },
  {
   "cell_type": "markdown",
   "id": "5d7cddd6",
   "metadata": {},
   "source": []
  },
  {
   "cell_type": "markdown",
   "id": "2d378f9d",
   "metadata": {},
   "source": []
  },
  {
   "cell_type": "markdown",
   "id": "8187d3cc",
   "metadata": {},
   "source": []
  },
  {
   "cell_type": "markdown",
   "id": "e2499a57",
   "metadata": {},
   "source": []
  },
  {
   "cell_type": "markdown",
   "id": "7968bdb4",
   "metadata": {},
   "source": []
  },
  {
   "cell_type": "markdown",
   "id": "1901f799",
   "metadata": {},
   "source": []
  },
  {
   "cell_type": "markdown",
   "id": "7ec8b18e",
   "metadata": {},
   "source": []
  },
  {
   "cell_type": "markdown",
   "id": "67571891",
   "metadata": {},
   "source": []
  },
  {
   "cell_type": "markdown",
   "id": "c7d12645",
   "metadata": {},
   "source": []
  },
  {
   "cell_type": "markdown",
   "id": "d8007667",
   "metadata": {},
   "source": []
  },
  {
   "cell_type": "markdown",
   "id": "2ce8b7e2",
   "metadata": {},
   "source": []
  },
  {
   "cell_type": "markdown",
   "id": "3aa14a32",
   "metadata": {},
   "source": []
  },
  {
   "cell_type": "markdown",
   "id": "e756d4f7",
   "metadata": {},
   "source": []
  },
  {
   "cell_type": "markdown",
   "id": "a82737e1",
   "metadata": {},
   "source": []
  },
  {
   "cell_type": "markdown",
   "id": "1047c951",
   "metadata": {},
   "source": []
  },
  {
   "cell_type": "markdown",
   "id": "7b5b6dbe",
   "metadata": {},
   "source": []
  },
  {
   "cell_type": "markdown",
   "id": "875adccb",
   "metadata": {},
   "source": []
  },
  {
   "cell_type": "markdown",
   "id": "0ded052d",
   "metadata": {},
   "source": []
  },
  {
   "cell_type": "markdown",
   "id": "8d75cfaf",
   "metadata": {},
   "source": []
  },
  {
   "cell_type": "markdown",
   "id": "aa55ab8b",
   "metadata": {},
   "source": []
  },
  {
   "cell_type": "markdown",
   "id": "de3dacf3",
   "metadata": {},
   "source": []
  },
  {
   "cell_type": "markdown",
   "id": "9c2577b1",
   "metadata": {},
   "source": []
  },
  {
   "cell_type": "markdown",
   "id": "91f83a92",
   "metadata": {},
   "source": []
  },
  {
   "cell_type": "markdown",
   "id": "cac608c5",
   "metadata": {},
   "source": []
  },
  {
   "cell_type": "markdown",
   "id": "c345db21",
   "metadata": {},
   "source": []
  },
  {
   "cell_type": "markdown",
   "id": "f3f88ed5",
   "metadata": {},
   "source": []
  },
  {
   "cell_type": "markdown",
   "id": "e1cb431a",
   "metadata": {},
   "source": []
  },
  {
   "cell_type": "markdown",
   "id": "ba30301e",
   "metadata": {},
   "source": []
  },
  {
   "cell_type": "markdown",
   "id": "3cc34b3a",
   "metadata": {},
   "source": []
  },
  {
   "cell_type": "markdown",
   "id": "7ed74e77",
   "metadata": {},
   "source": []
  },
  {
   "cell_type": "markdown",
   "id": "990f1179",
   "metadata": {},
   "source": []
  },
  {
   "cell_type": "markdown",
   "id": "6e987223",
   "metadata": {},
   "source": []
  },
  {
   "cell_type": "markdown",
   "id": "c5eadaed",
   "metadata": {},
   "source": []
  },
  {
   "cell_type": "markdown",
   "id": "56f84f47",
   "metadata": {},
   "source": []
  },
  {
   "cell_type": "markdown",
   "id": "8476b4df",
   "metadata": {},
   "source": []
  },
  {
   "cell_type": "markdown",
   "id": "148cf2c5",
   "metadata": {},
   "source": []
  },
  {
   "cell_type": "markdown",
   "id": "6924d6f0",
   "metadata": {},
   "source": []
  },
  {
   "cell_type": "markdown",
   "id": "331d8224",
   "metadata": {},
   "source": []
  },
  {
   "cell_type": "markdown",
   "id": "3dca9c50",
   "metadata": {},
   "source": []
  },
  {
   "cell_type": "markdown",
   "id": "12706194",
   "metadata": {},
   "source": []
  },
  {
   "cell_type": "markdown",
   "id": "8d5d01ec",
   "metadata": {},
   "source": []
  },
  {
   "cell_type": "markdown",
   "id": "c591673b",
   "metadata": {},
   "source": []
  },
  {
   "cell_type": "markdown",
   "id": "bc5788a1",
   "metadata": {},
   "source": []
  },
  {
   "cell_type": "markdown",
   "id": "e499b4f4",
   "metadata": {},
   "source": []
  },
  {
   "cell_type": "markdown",
   "id": "ace1551d",
   "metadata": {},
   "source": []
  },
  {
   "cell_type": "markdown",
   "id": "66938b30",
   "metadata": {},
   "source": []
  },
  {
   "cell_type": "markdown",
   "id": "72b8be83",
   "metadata": {},
   "source": []
  },
  {
   "cell_type": "markdown",
   "id": "c2779b44",
   "metadata": {},
   "source": []
  },
  {
   "cell_type": "markdown",
   "id": "f7ebf6bd",
   "metadata": {},
   "source": []
  },
  {
   "cell_type": "markdown",
   "id": "582e51a3",
   "metadata": {},
   "source": []
  },
  {
   "cell_type": "markdown",
   "id": "432ecfa9",
   "metadata": {},
   "source": []
  },
  {
   "cell_type": "markdown",
   "id": "212207a7",
   "metadata": {},
   "source": []
  },
  {
   "cell_type": "markdown",
   "id": "c2fb13a9",
   "metadata": {},
   "source": []
  },
  {
   "cell_type": "markdown",
   "id": "55521901",
   "metadata": {},
   "source": []
  },
  {
   "cell_type": "markdown",
   "id": "731726ef",
   "metadata": {},
   "source": []
  },
  {
   "cell_type": "markdown",
   "id": "8dd5549e",
   "metadata": {},
   "source": []
  },
  {
   "cell_type": "markdown",
   "id": "4215ea42",
   "metadata": {},
   "source": []
  },
  {
   "cell_type": "markdown",
   "id": "375da788",
   "metadata": {},
   "source": []
  },
  {
   "cell_type": "markdown",
   "id": "496bab8e",
   "metadata": {},
   "source": []
  },
  {
   "cell_type": "markdown",
   "id": "a2c1b9ce",
   "metadata": {},
   "source": []
  },
  {
   "cell_type": "markdown",
   "id": "c8f97200",
   "metadata": {},
   "source": []
  },
  {
   "cell_type": "markdown",
   "id": "ec6fa12f",
   "metadata": {},
   "source": []
  },
  {
   "cell_type": "markdown",
   "id": "252100b7",
   "metadata": {},
   "source": []
  },
  {
   "cell_type": "markdown",
   "id": "032a2f95",
   "metadata": {},
   "source": []
  },
  {
   "cell_type": "markdown",
   "id": "6c0b1093",
   "metadata": {},
   "source": []
  },
  {
   "cell_type": "markdown",
   "id": "497f4016",
   "metadata": {},
   "source": []
  },
  {
   "cell_type": "markdown",
   "id": "aa1b9e82",
   "metadata": {},
   "source": []
  },
  {
   "cell_type": "markdown",
   "id": "c6624a96",
   "metadata": {},
   "source": []
  },
  {
   "cell_type": "markdown",
   "id": "5d6348de",
   "metadata": {},
   "source": []
  },
  {
   "cell_type": "markdown",
   "id": "f9dbb22c",
   "metadata": {},
   "source": []
  },
  {
   "cell_type": "markdown",
   "id": "8213335c",
   "metadata": {},
   "source": []
  },
  {
   "cell_type": "markdown",
   "id": "2048350a",
   "metadata": {},
   "source": []
  },
  {
   "cell_type": "markdown",
   "id": "f21b045e",
   "metadata": {},
   "source": []
  },
  {
   "cell_type": "markdown",
   "id": "5961dbaa",
   "metadata": {},
   "source": []
  },
  {
   "cell_type": "markdown",
   "id": "7479c74f",
   "metadata": {},
   "source": []
  },
  {
   "cell_type": "markdown",
   "id": "5f461dd6",
   "metadata": {},
   "source": []
  },
  {
   "cell_type": "markdown",
   "id": "04df6645",
   "metadata": {},
   "source": []
  },
  {
   "cell_type": "markdown",
   "id": "dd6c37f3",
   "metadata": {},
   "source": []
  },
  {
   "cell_type": "markdown",
   "id": "43532a22",
   "metadata": {},
   "source": []
  },
  {
   "cell_type": "markdown",
   "id": "024433b6",
   "metadata": {},
   "source": []
  },
  {
   "cell_type": "markdown",
   "id": "d1694a57",
   "metadata": {},
   "source": []
  },
  {
   "cell_type": "markdown",
   "id": "9354d778",
   "metadata": {},
   "source": []
  },
  {
   "cell_type": "markdown",
   "id": "110c4107",
   "metadata": {},
   "source": []
  },
  {
   "cell_type": "markdown",
   "id": "115788e6",
   "metadata": {},
   "source": []
  },
  {
   "cell_type": "markdown",
   "id": "8c09a81d",
   "metadata": {},
   "source": []
  },
  {
   "cell_type": "markdown",
   "id": "9d118dd5",
   "metadata": {},
   "source": []
  },
  {
   "cell_type": "markdown",
   "id": "00942770",
   "metadata": {},
   "source": []
  },
  {
   "cell_type": "markdown",
   "id": "edeae348",
   "metadata": {},
   "source": []
  },
  {
   "cell_type": "markdown",
   "id": "cf1fb344",
   "metadata": {},
   "source": []
  },
  {
   "cell_type": "markdown",
   "id": "6a918766",
   "metadata": {},
   "source": []
  },
  {
   "cell_type": "markdown",
   "id": "1230c22f",
   "metadata": {},
   "source": []
  },
  {
   "cell_type": "markdown",
   "id": "f5ecbb39",
   "metadata": {},
   "source": []
  },
  {
   "cell_type": "markdown",
   "id": "0efd06f5",
   "metadata": {},
   "source": []
  },
  {
   "cell_type": "markdown",
   "id": "6e10f2b6",
   "metadata": {},
   "source": []
  },
  {
   "cell_type": "markdown",
   "id": "2566506f",
   "metadata": {},
   "source": []
  },
  {
   "cell_type": "markdown",
   "id": "ba2d3cce",
   "metadata": {},
   "source": []
  },
  {
   "cell_type": "markdown",
   "id": "d87aa1ca",
   "metadata": {},
   "source": []
  },
  {
   "cell_type": "markdown",
   "id": "d2b0802c",
   "metadata": {},
   "source": []
  },
  {
   "cell_type": "markdown",
   "id": "9efb3cb5",
   "metadata": {},
   "source": []
  },
  {
   "cell_type": "markdown",
   "id": "6c74b456",
   "metadata": {},
   "source": []
  },
  {
   "cell_type": "markdown",
   "id": "83a222f0",
   "metadata": {},
   "source": []
  },
  {
   "cell_type": "markdown",
   "id": "028fde47",
   "metadata": {},
   "source": []
  },
  {
   "cell_type": "markdown",
   "id": "0184122f",
   "metadata": {},
   "source": []
  },
  {
   "cell_type": "markdown",
   "id": "96193fd4",
   "metadata": {},
   "source": []
  },
  {
   "cell_type": "markdown",
   "id": "30bba016",
   "metadata": {},
   "source": []
  },
  {
   "cell_type": "markdown",
   "id": "f122111c",
   "metadata": {},
   "source": []
  },
  {
   "cell_type": "markdown",
   "id": "9555f86b",
   "metadata": {},
   "source": []
  },
  {
   "cell_type": "markdown",
   "id": "cc414c75",
   "metadata": {},
   "source": []
  },
  {
   "cell_type": "markdown",
   "id": "27945f68",
   "metadata": {},
   "source": []
  },
  {
   "cell_type": "markdown",
   "id": "56f89ecf",
   "metadata": {},
   "source": []
  },
  {
   "cell_type": "markdown",
   "id": "d10ef09b",
   "metadata": {},
   "source": []
  },
  {
   "cell_type": "markdown",
   "id": "24456acb",
   "metadata": {},
   "source": []
  },
  {
   "cell_type": "markdown",
   "id": "97a36b2c",
   "metadata": {},
   "source": []
  },
  {
   "cell_type": "markdown",
   "id": "f4ad9dc8",
   "metadata": {},
   "source": []
  },
  {
   "cell_type": "markdown",
   "id": "f3a9be09",
   "metadata": {},
   "source": []
  },
  {
   "cell_type": "markdown",
   "id": "a9ee444a",
   "metadata": {},
   "source": []
  },
  {
   "cell_type": "markdown",
   "id": "9aa22624",
   "metadata": {},
   "source": []
  },
  {
   "cell_type": "markdown",
   "id": "7f3e58d3",
   "metadata": {},
   "source": []
  },
  {
   "cell_type": "markdown",
   "id": "d2fe8c89",
   "metadata": {},
   "source": []
  },
  {
   "cell_type": "markdown",
   "id": "e17fb9d9",
   "metadata": {},
   "source": []
  },
  {
   "cell_type": "markdown",
   "id": "5a01b9e3",
   "metadata": {},
   "source": []
  },
  {
   "cell_type": "markdown",
   "id": "ed7ba54a",
   "metadata": {},
   "source": []
  },
  {
   "cell_type": "markdown",
   "id": "f385d149",
   "metadata": {},
   "source": []
  },
  {
   "cell_type": "markdown",
   "id": "9def1155",
   "metadata": {},
   "source": []
  },
  {
   "cell_type": "markdown",
   "id": "8cd75222",
   "metadata": {},
   "source": []
  },
  {
   "cell_type": "markdown",
   "id": "d358d6b1",
   "metadata": {},
   "source": []
  },
  {
   "cell_type": "markdown",
   "id": "9120ba8f",
   "metadata": {},
   "source": []
  },
  {
   "cell_type": "markdown",
   "id": "30d8e597",
   "metadata": {},
   "source": []
  },
  {
   "cell_type": "markdown",
   "id": "aa6f2ce7",
   "metadata": {},
   "source": []
  },
  {
   "cell_type": "markdown",
   "id": "285e8ce5",
   "metadata": {},
   "source": []
  },
  {
   "cell_type": "markdown",
   "id": "f487df8c",
   "metadata": {},
   "source": []
  },
  {
   "cell_type": "markdown",
   "id": "300a8b06",
   "metadata": {},
   "source": []
  },
  {
   "cell_type": "markdown",
   "id": "43136457",
   "metadata": {},
   "source": []
  },
  {
   "cell_type": "markdown",
   "id": "9809cd9c",
   "metadata": {},
   "source": []
  },
  {
   "cell_type": "markdown",
   "id": "be834868",
   "metadata": {},
   "source": []
  },
  {
   "cell_type": "markdown",
   "id": "a421bcd2",
   "metadata": {},
   "source": []
  },
  {
   "cell_type": "markdown",
   "id": "f8b023fa",
   "metadata": {},
   "source": []
  },
  {
   "cell_type": "markdown",
   "id": "3aca0c06",
   "metadata": {},
   "source": []
  },
  {
   "cell_type": "markdown",
   "id": "baf0bffa",
   "metadata": {},
   "source": []
  },
  {
   "cell_type": "markdown",
   "id": "03c74ea0",
   "metadata": {},
   "source": []
  },
  {
   "cell_type": "markdown",
   "id": "b99d365f",
   "metadata": {},
   "source": []
  },
  {
   "cell_type": "markdown",
   "id": "bb7c8bb5",
   "metadata": {},
   "source": []
  },
  {
   "cell_type": "markdown",
   "id": "ba5ac849",
   "metadata": {},
   "source": []
  },
  {
   "cell_type": "markdown",
   "id": "fcb74eec",
   "metadata": {},
   "source": []
  },
  {
   "cell_type": "markdown",
   "id": "0fc54b5f",
   "metadata": {},
   "source": []
  },
  {
   "cell_type": "markdown",
   "id": "7ce8be35",
   "metadata": {},
   "source": []
  },
  {
   "cell_type": "markdown",
   "id": "4e43026e",
   "metadata": {},
   "source": []
  },
  {
   "cell_type": "markdown",
   "id": "be36b843",
   "metadata": {},
   "source": []
  },
  {
   "cell_type": "markdown",
   "id": "9b41d419",
   "metadata": {},
   "source": []
  },
  {
   "cell_type": "markdown",
   "id": "6d5a9033",
   "metadata": {},
   "source": []
  },
  {
   "cell_type": "markdown",
   "id": "acf54025",
   "metadata": {},
   "source": []
  },
  {
   "cell_type": "markdown",
   "id": "3aa22aea",
   "metadata": {},
   "source": []
  },
  {
   "cell_type": "markdown",
   "id": "9c6ab4f9",
   "metadata": {},
   "source": []
  },
  {
   "cell_type": "markdown",
   "id": "9151d332",
   "metadata": {},
   "source": []
  },
  {
   "cell_type": "markdown",
   "id": "4495b6eb",
   "metadata": {},
   "source": []
  },
  {
   "cell_type": "markdown",
   "id": "4d50cd17",
   "metadata": {},
   "source": []
  },
  {
   "cell_type": "markdown",
   "id": "068fbb85",
   "metadata": {},
   "source": []
  },
  {
   "cell_type": "markdown",
   "id": "8574c19b",
   "metadata": {},
   "source": []
  },
  {
   "cell_type": "markdown",
   "id": "b164d79c",
   "metadata": {},
   "source": []
  },
  {
   "cell_type": "markdown",
   "id": "1b439742",
   "metadata": {},
   "source": []
  },
  {
   "cell_type": "markdown",
   "id": "a14d4535",
   "metadata": {},
   "source": []
  },
  {
   "cell_type": "markdown",
   "id": "a2e4e440",
   "metadata": {},
   "source": []
  },
  {
   "cell_type": "markdown",
   "id": "88974235",
   "metadata": {},
   "source": []
  },
  {
   "cell_type": "markdown",
   "id": "edf453f7",
   "metadata": {},
   "source": []
  },
  {
   "cell_type": "markdown",
   "id": "7cc6ca7a",
   "metadata": {},
   "source": []
  },
  {
   "cell_type": "markdown",
   "id": "40e6574e",
   "metadata": {},
   "source": []
  },
  {
   "cell_type": "markdown",
   "id": "75c3e229",
   "metadata": {},
   "source": []
  },
  {
   "cell_type": "markdown",
   "id": "81d9c0a6",
   "metadata": {},
   "source": []
  },
  {
   "cell_type": "markdown",
   "id": "5a3bb696",
   "metadata": {},
   "source": []
  },
  {
   "cell_type": "markdown",
   "id": "e142fa24",
   "metadata": {},
   "source": []
  },
  {
   "cell_type": "markdown",
   "id": "7799e348",
   "metadata": {},
   "source": []
  },
  {
   "cell_type": "markdown",
   "id": "273a4e5a",
   "metadata": {},
   "source": []
  },
  {
   "cell_type": "markdown",
   "id": "2237263a",
   "metadata": {},
   "source": []
  },
  {
   "cell_type": "markdown",
   "id": "91db28fd",
   "metadata": {},
   "source": []
  },
  {
   "cell_type": "markdown",
   "id": "4fb641ad",
   "metadata": {},
   "source": []
  },
  {
   "cell_type": "markdown",
   "id": "87429066",
   "metadata": {},
   "source": []
  },
  {
   "cell_type": "markdown",
   "id": "6a84ddfc",
   "metadata": {},
   "source": []
  },
  {
   "cell_type": "markdown",
   "id": "b72799e3",
   "metadata": {},
   "source": []
  },
  {
   "cell_type": "markdown",
   "id": "b13df8ad",
   "metadata": {},
   "source": []
  },
  {
   "cell_type": "markdown",
   "id": "94557cc6",
   "metadata": {},
   "source": []
  },
  {
   "cell_type": "markdown",
   "id": "5a545284",
   "metadata": {},
   "source": []
  },
  {
   "cell_type": "markdown",
   "id": "c9baad45",
   "metadata": {},
   "source": []
  },
  {
   "cell_type": "markdown",
   "id": "c14dd98c",
   "metadata": {},
   "source": []
  },
  {
   "cell_type": "markdown",
   "id": "baec1718",
   "metadata": {},
   "source": []
  },
  {
   "cell_type": "markdown",
   "id": "00289786",
   "metadata": {},
   "source": []
  },
  {
   "cell_type": "markdown",
   "id": "c7b5986e",
   "metadata": {},
   "source": []
  },
  {
   "cell_type": "markdown",
   "id": "ffe2e794",
   "metadata": {},
   "source": []
  },
  {
   "cell_type": "markdown",
   "id": "6dd16edc",
   "metadata": {},
   "source": []
  },
  {
   "cell_type": "markdown",
   "id": "21b60be5",
   "metadata": {},
   "source": []
  },
  {
   "cell_type": "markdown",
   "id": "670bec72",
   "metadata": {},
   "source": []
  },
  {
   "cell_type": "markdown",
   "id": "d1608605",
   "metadata": {},
   "source": []
  },
  {
   "cell_type": "markdown",
   "id": "3b10c904",
   "metadata": {},
   "source": []
  },
  {
   "cell_type": "markdown",
   "id": "3b17a53e",
   "metadata": {},
   "source": []
  },
  {
   "cell_type": "markdown",
   "id": "5bf1cd1e",
   "metadata": {},
   "source": []
  },
  {
   "cell_type": "markdown",
   "id": "d90b07d6",
   "metadata": {},
   "source": []
  },
  {
   "cell_type": "markdown",
   "id": "6009bb1f",
   "metadata": {},
   "source": []
  },
  {
   "cell_type": "markdown",
   "id": "9b715801",
   "metadata": {},
   "source": []
  },
  {
   "cell_type": "markdown",
   "id": "fb1b237f",
   "metadata": {},
   "source": []
  },
  {
   "cell_type": "markdown",
   "id": "4b0e1568",
   "metadata": {},
   "source": []
  }
 ],
 "metadata": {
  "kernelspec": {
   "display_name": "Python 3 (ipykernel)",
   "language": "python",
   "name": "python3"
  },
  "language_info": {
   "codemirror_mode": {
    "name": "ipython",
    "version": 3
   },
   "file_extension": ".py",
   "mimetype": "text/x-python",
   "name": "python",
   "nbconvert_exporter": "python",
   "pygments_lexer": "ipython3",
   "version": "3.9.15"
  }
 },
 "nbformat": 4,
 "nbformat_minor": 5
}
